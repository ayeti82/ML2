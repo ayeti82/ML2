{
 "cells": [
  {
   "cell_type": "markdown",
   "id": "5a8f7c93",
   "metadata": {},
   "source": [
    "# <center style=\"background-color:#6891e8;font-family:Garamond;color:white;font-size:100%;text-align:center;border-radius:0px;padding: 10px;\">  Text Classification of ChatGPT Tweets on Education </center>\n",
    "\n",
    "##### Ayetijhya Desmukhya, 465719\n",
    "\n",
    "## Table of Contents\n",
    "\n",
    "1. Introduction\n",
    "    \n",
    "2. Classification models\n",
    "\n",
    "4. Conclusion\n",
    "\n",
    "5. References\n",
    "\n",
    "\n",
    "# <p> <center style=\"background-color:#6891e8;font-family:Garamond;color:white;font-size:100%;text-align:center;border-radius:0px;padding: 10px;\">  1.Introduction  </center></p>\n",
    "\n",
    ">The application  of text sentiment  analysis is one of  the applications  of  artificial  intelligence  to  investigate  the implicit sentiments in texts, whether they are bad, good, or  neutral[1].\n",
    "\n",
    "Various approaches are utilized to analyze emotions in text, encompassing language modeling techniques, artificial intelligence, and machine learning. These approaches assess a range of emotions, such as happiness, fear, sorrow, anger, and more. The techniques leverage linguistic text analysis, statistical insights, and contextual examination of text to identify the different types of emotions expressed within the writing.\n",
    "\n",
    "In today’s digital landscape, especially with the rise of social media, platforms such as Twitter[X] have emerged as influential avenues for individuals to voice their opinions, share personal experiences, and engage in conversations about a wide range of societal issues, education being a notable highlight. This project aims to delve deeply into the analysis of tweets on influence ChatGPT in education.\n",
    "\n",
    "### Background\n",
    "\n",
    "The integration of artificial intelligence (AI) into the field of education has marked a significant transformation, reshaping the dynamics of both teaching practices and learning experiences. With the rise of tools such as ChatGPT, educators and students are increasingly leveraging AI to enhance their educational journeys. These tools provide valuable support for a range of activities, including generating innovative ideas, assisting with complex problem-solving, and offering personalized learning experiences.\n",
    "\n",
    "However, this technological advancement has sparked a lively debate, reflecting a wide spectrum of opinions regarding its impact on the educational landscape. On one hand, many consider AI to be a powerful ally in the classroom, capable of streamlining tasks and enriching the learning environment. On the other hand, there are those who voice concerns about the limitations of AI, raising important questions about its ethical implications and the potential erosion of essential human interactions in the educational process. This ongoing discourse highlights the need for careful consideration as we navigate the evolving role of AI in education.\n",
    "\n",
    "### Goal of the project\n",
    "\n",
    "The objective of this project is to develop sentiment classification models that categorize tweets about education on ChatGPT into five predefined sentiment categories: very positive, positive, neutral, negative, and very negative. We will also compare and analyze the performance of different classification models with varying hyperparameters and deep learning models. Additionally, we aim to examine sentiment trends over time to understand how perceptions have evolved, and to visualize any peaks or changes in sentiment.\n",
    "\n",
    "### Data description\n",
    "\n",
    "Initially, the dataset is retrieved from Kaggle[1] which 'contains a CSV file related to ChatGPT including keywords(chatgpt, chat gpt) #hashtags and @mentions about ChatGPT, OpenAI's conversational AI model. The file includes information on `500,000` tweets. The dataset aims to help understand public opinion, trends, and potential applications of ChatGPT by analyzing tweet volume, sentiment, user engagement, and the influence of key AI events. The dataset offers valuable insights for companies, researchers, and policymakers, allowing them to make informed decisions and shape the future of AI-powered conversational technologies'[2]. It has the following columns:\n",
    "\n",
    "- `date`           - The date and time when the tweet was posted\n",
    "- `id`             - The id of the user\n",
    "- `content`        - The content/text of the tweet\n",
    "- `username`       - The username of the account from which the tweet was posted\n",
    "- `like_count`     - The number of likes the tweet got\n",
    "- `retweet_count`  - The number of retweets to the parent tweet got\n",
    "\n",
    "However, this dataset is like a general view on ChatGPT in every field/industry but since my topic involved tweets regarding education specifically, I filtered the dataset  based on keywords such as `study, teacher, grading, and education`. As a result, I collected approximately `13,000` tweets spanning from `January to March 2023`. This refined dataset is then named `FilteredTweets_JanMarch2023.csv`.\n",
    "\n",
    "Regrettably, the challenges associated with utilizing this dataset did not end there. A crucial component—a key column—was missing, specifically the target label needed for the classification process. To address this gap, I undertook a semi-automatic labelling procedure to add a new column to the dataset. The entire process of data cleaning, along with the semi-automatic labelling, and data visualisation was carried out in a separate Jupyter notebook titled `DataCleaning_SemiAutomaticLabelling_AyetijhyaDesmukhya_465719`. This notebook serves as the foundation for preparing the dataset for further analysis and modeling.\n",
    "\n",
    "Finally, we have our refined `RefinedTweets_JanMarch2023.csv` dataset appropriate for our use case ready. Here, we have the following modified columns: \n",
    "\n",
    "- `date`             - Only the date when the tweet was posted\n",
    "- `content`          - The content/text of the tweet\n",
    "- `cleaned_content`  - The cleaned/pre-processed content/text of the tweet\n",
    "- `sentiment`        - The sentiment category the tweet falls under [2-very positive, 1-positive, 0-neutral, -1-negative, -2-very negative]\n",
    "\n",
    "In this notebook, we will delve into the critical processes of model training, testing, and evaluation. We will explore how the model learns from the data, assess its performance on unseen data, and draw conclusions based on our findings."
   ]
  },
  {
   "cell_type": "code",
   "execution_count": 80,
   "id": "aaee93c6",
   "metadata": {},
   "outputs": [],
   "source": [
    "# Load librarires\n",
    "import pandas as pd\n",
    "import numpy as np\n",
    "from tqdm import tqdm\n",
    "import seaborn as sn\n",
    "import matplotlib.pyplot as plt\n",
    "\n",
    "from sklearn.model_selection import train_test_split\n",
    "from sklearn.feature_extraction.text import TfidfVectorizer\n",
    "\n",
    "# Import necessary functions for model training and evaluation\n",
    "from sklearn.model_selection import train_test_split, cross_val_score, GridSearchCV\n",
    "from sklearn.metrics import accuracy_score, classification_report, confusion_matrix, precision_score, recall_score, f1_score, roc_auc_score\n",
    "\n",
    "\n",
    "# Import classifiers for model training\n",
    "from sklearn.linear_model import LogisticRegression, SGDClassifier\n",
    "from sklearn.ensemble import RandomForestClassifier, GradientBoostingClassifier, ExtraTreesClassifier,  AdaBoostClassifier\n",
    "from sklearn.svm import SVC, LinearSVC\n",
    "from sklearn.naive_bayes import MultinomialNB\n",
    "from catboost import CatBoostClassifier\n",
    "from sklearn.neural_network import MLPClassifier\n",
    "from xgboost import XGBClassifier\n",
    "from lightgbm import LGBMClassifier"
   ]
  },
  {
   "cell_type": "code",
   "execution_count": 2,
   "id": "6abe1b45",
   "metadata": {},
   "outputs": [],
   "source": [
    "colour = '#6891e8'"
   ]
  },
  {
   "cell_type": "code",
   "execution_count": 3,
   "id": "59c0ef36",
   "metadata": {},
   "outputs": [
    {
     "data": {
      "text/html": [
       "<div>\n",
       "<style scoped>\n",
       "    .dataframe tbody tr th:only-of-type {\n",
       "        vertical-align: middle;\n",
       "    }\n",
       "\n",
       "    .dataframe tbody tr th {\n",
       "        vertical-align: top;\n",
       "    }\n",
       "\n",
       "    .dataframe thead th {\n",
       "        text-align: right;\n",
       "    }\n",
       "</style>\n",
       "<table border=\"1\" class=\"dataframe\">\n",
       "  <thead>\n",
       "    <tr style=\"text-align: right;\">\n",
       "      <th></th>\n",
       "      <th>content</th>\n",
       "      <th>cleaned_content</th>\n",
       "      <th>sentiment</th>\n",
       "    </tr>\n",
       "  </thead>\n",
       "  <tbody>\n",
       "    <tr>\n",
       "      <th>0</th>\n",
       "      <td>Lots of teachers worrying about Chat GPT makin...</td>\n",
       "      <td>lot teacher worrying making essay writing too ...</td>\n",
       "      <td>-1</td>\n",
       "    </tr>\n",
       "    <tr>\n",
       "      <th>1</th>\n",
       "      <td>Can #ChatGPT really help create the new â€œSup...</td>\n",
       "      <td>really help create new superteacher whats kryp...</td>\n",
       "      <td>2</td>\n",
       "    </tr>\n",
       "    <tr>\n",
       "      <th>2</th>\n",
       "      <td>@jdflynn @dr_t_teacher Is this ALSO Chat GPT?!...</td>\n",
       "      <td>also surely not true</td>\n",
       "      <td>0</td>\n",
       "    </tr>\n",
       "    <tr>\n",
       "      <th>3</th>\n",
       "      <td>I asked Chat GPT why teachers are so underpaid...</td>\n",
       "      <td>asked teacher underpaid</td>\n",
       "      <td>-1</td>\n",
       "    </tr>\n",
       "    <tr>\n",
       "      <th>4</th>\n",
       "      <td>One of my FAVE thought leaders to learn from i...</td>\n",
       "      <td>one fave thought leader learn youre curious tr...</td>\n",
       "      <td>2</td>\n",
       "    </tr>\n",
       "    <tr>\n",
       "      <th>5</th>\n",
       "      <td>Teachers: discussing #ChatGPT &amp;amp; how to com...</td>\n",
       "      <td>teacher discussing combat classroom leader won...</td>\n",
       "      <td>-1</td>\n",
       "    </tr>\n",
       "    <tr>\n",
       "      <th>6</th>\n",
       "      <td>absolutely obsessed with my sociology teacher ...</td>\n",
       "      <td>absolutely obsessed sociology write paragraph ...</td>\n",
       "      <td>0</td>\n",
       "    </tr>\n",
       "    <tr>\n",
       "      <th>7</th>\n",
       "      <td>â€œAfter spending 100s of hours\\n\\nIâ€™ve foun...</td>\n",
       "      <td>spending hour ive found secret us prompt level...</td>\n",
       "      <td>1</td>\n",
       "    </tr>\n",
       "    <tr>\n",
       "      <th>8</th>\n",
       "      <td>This cool! Starting my new teacher newsletter ...</td>\n",
       "      <td>cool starting new newsletter april topic selfc...</td>\n",
       "      <td>2</td>\n",
       "    </tr>\n",
       "    <tr>\n",
       "      <th>9</th>\n",
       "      <td>ChatGPT teacher warns pupils not to use AI\\n h...</td>\n",
       "      <td>warns pupil not use</td>\n",
       "      <td>-2</td>\n",
       "    </tr>\n",
       "    <tr>\n",
       "      <th>10</th>\n",
       "      <td>Elder kiddo's HS English teacher just sent an ...</td>\n",
       "      <td>elder kiddos h english sent email shes getting...</td>\n",
       "      <td>-1</td>\n",
       "    </tr>\n",
       "    <tr>\n",
       "      <th>11</th>\n",
       "      <td>How ChatGPT Can Help with Grading https://t.co...</td>\n",
       "      <td>help grading</td>\n",
       "      <td>1</td>\n",
       "    </tr>\n",
       "    <tr>\n",
       "      <th>12</th>\n",
       "      <td>@sosospeaks It could be flag though as AI form...</td>\n",
       "      <td>could flag though form professor past show wou...</td>\n",
       "      <td>-1</td>\n",
       "    </tr>\n",
       "    <tr>\n",
       "      <th>13</th>\n",
       "      <td>As a teacher I want you all to know: thanks to...</td>\n",
       "      <td>want know thanks school already beginning talk...</td>\n",
       "      <td>1</td>\n",
       "    </tr>\n",
       "    <tr>\n",
       "      <th>14</th>\n",
       "      <td>New Chat GPT Prompt \\n\\nAct as though you are ...</td>\n",
       "      <td>new prompt act though master classroom diverse...</td>\n",
       "      <td>2</td>\n",
       "    </tr>\n",
       "    <tr>\n",
       "      <th>15</th>\n",
       "      <td>#MOESC PD SPOTLIGHTðŸ”¦: Making Artificial Int...</td>\n",
       "      <td>pd spotlight making artificial intelligence co...</td>\n",
       "      <td>1</td>\n",
       "    </tr>\n",
       "    <tr>\n",
       "      <th>16</th>\n",
       "      <td>Breaking News\\nArtificial Intelligence To Stre...</td>\n",
       "      <td>breaking news artificial intelligence streamli...</td>\n",
       "      <td>1</td>\n",
       "    </tr>\n",
       "    <tr>\n",
       "      <th>17</th>\n",
       "      <td>Get the ultimate historical experience with #C...</td>\n",
       "      <td>get ultimate historical experience historybot ...</td>\n",
       "      <td>0</td>\n",
       "    </tr>\n",
       "    <tr>\n",
       "      <th>18</th>\n",
       "      <td>Breaking News\\nArtificial Intelligence To Stre...</td>\n",
       "      <td>breaking news artificial intelligence streamli...</td>\n",
       "      <td>1</td>\n",
       "    </tr>\n",
       "    <tr>\n",
       "      <th>19</th>\n",
       "      <td>do teachers know when we use chat gpt?</td>\n",
       "      <td>teacher know use</td>\n",
       "      <td>0</td>\n",
       "    </tr>\n",
       "  </tbody>\n",
       "</table>\n",
       "</div>"
      ],
      "text/plain": [
       "                                              content  \\\n",
       "0   Lots of teachers worrying about Chat GPT makin...   \n",
       "1   Can #ChatGPT really help create the new â€œSup...   \n",
       "2   @jdflynn @dr_t_teacher Is this ALSO Chat GPT?!...   \n",
       "3   I asked Chat GPT why teachers are so underpaid...   \n",
       "4   One of my FAVE thought leaders to learn from i...   \n",
       "5   Teachers: discussing #ChatGPT &amp; how to com...   \n",
       "6   absolutely obsessed with my sociology teacher ...   \n",
       "7   â€œAfter spending 100s of hours\\n\\nIâ€™ve foun...   \n",
       "8   This cool! Starting my new teacher newsletter ...   \n",
       "9   ChatGPT teacher warns pupils not to use AI\\n h...   \n",
       "10  Elder kiddo's HS English teacher just sent an ...   \n",
       "11  How ChatGPT Can Help with Grading https://t.co...   \n",
       "12  @sosospeaks It could be flag though as AI form...   \n",
       "13  As a teacher I want you all to know: thanks to...   \n",
       "14  New Chat GPT Prompt \\n\\nAct as though you are ...   \n",
       "15  #MOESC PD SPOTLIGHTðŸ”¦: Making Artificial Int...   \n",
       "16  Breaking News\\nArtificial Intelligence To Stre...   \n",
       "17  Get the ultimate historical experience with #C...   \n",
       "18  Breaking News\\nArtificial Intelligence To Stre...   \n",
       "19             do teachers know when we use chat gpt?   \n",
       "\n",
       "                                      cleaned_content  sentiment  \n",
       "0   lot teacher worrying making essay writing too ...         -1  \n",
       "1   really help create new superteacher whats kryp...          2  \n",
       "2                                also surely not true          0  \n",
       "3                             asked teacher underpaid         -1  \n",
       "4   one fave thought leader learn youre curious tr...          2  \n",
       "5   teacher discussing combat classroom leader won...         -1  \n",
       "6   absolutely obsessed sociology write paragraph ...          0  \n",
       "7   spending hour ive found secret us prompt level...          1  \n",
       "8   cool starting new newsletter april topic selfc...          2  \n",
       "9                                 warns pupil not use         -2  \n",
       "10  elder kiddos h english sent email shes getting...         -1  \n",
       "11                                       help grading          1  \n",
       "12  could flag though form professor past show wou...         -1  \n",
       "13  want know thanks school already beginning talk...          1  \n",
       "14  new prompt act though master classroom diverse...          2  \n",
       "15  pd spotlight making artificial intelligence co...          1  \n",
       "16  breaking news artificial intelligence streamli...          1  \n",
       "17  get ultimate historical experience historybot ...          0  \n",
       "18  breaking news artificial intelligence streamli...          1  \n",
       "19                                   teacher know use          0  "
      ]
     },
     "execution_count": 3,
     "metadata": {},
     "output_type": "execute_result"
    }
   ],
   "source": [
    "# Data Loading\n",
    "tweets = pd.read_csv('data/RefinedTweets_JanMarch2023.csv')\n",
    "tweets.head(20)"
   ]
  },
  {
   "cell_type": "code",
   "execution_count": 4,
   "id": "ae148187",
   "metadata": {},
   "outputs": [
    {
     "name": "stdout",
     "output_type": "stream",
     "text": [
      "                 NaN Values Count  NaN Values Percentage (%)\n",
      "cleaned_content                26                       0.19\n",
      "content                         0                       0.00\n",
      "sentiment                       0                       0.00\n"
     ]
    }
   ],
   "source": [
    "# Counting the missing values again - these represents those data which after pre-processing has empty\n",
    "# contents and when it gets saved to a .csv file these values are converted to NAN.\n",
    "\n",
    "nans = tweets.isna().sum().sort_values(ascending = False)\n",
    "pct = (nans/tweets.shape[0]) * 100\n",
    "print(pd.concat([nans, pct], axis = 1).rename(columns = { 0 : 'NaN Values Count', 1 : 'NaN Values Percentage (%)'}).round(2))"
   ]
  },
  {
   "cell_type": "code",
   "execution_count": 5,
   "id": "c9365e01",
   "metadata": {},
   "outputs": [
    {
     "name": "stdout",
     "output_type": "stream",
     "text": [
      "Rows with missing values:\n"
     ]
    },
    {
     "data": {
      "text/html": [
       "<div>\n",
       "<style scoped>\n",
       "    .dataframe tbody tr th:only-of-type {\n",
       "        vertical-align: middle;\n",
       "    }\n",
       "\n",
       "    .dataframe tbody tr th {\n",
       "        vertical-align: top;\n",
       "    }\n",
       "\n",
       "    .dataframe thead th {\n",
       "        text-align: right;\n",
       "    }\n",
       "</style>\n",
       "<table border=\"1\" class=\"dataframe\">\n",
       "  <thead>\n",
       "    <tr style=\"text-align: right;\">\n",
       "      <th></th>\n",
       "      <th>content</th>\n",
       "      <th>cleaned_content</th>\n",
       "      <th>sentiment</th>\n",
       "    </tr>\n",
       "  </thead>\n",
       "  <tbody>\n",
       "    <tr>\n",
       "      <th>1188</th>\n",
       "      <td>Should #Maine #Kids Have to Do &amp;amp; #RemoteLe...</td>\n",
       "      <td>NaN</td>\n",
       "      <td>-1</td>\n",
       "    </tr>\n",
       "    <tr>\n",
       "      <th>1564</th>\n",
       "      <td>#Ù„Ø§ÛÙˆØ±_ÛØ§Ø¦ÛŒÚ©ÙˆØ±Ù¹_Ù¾ÛÙ†Ú†ÛŒÚº #Ø§Ù...</td>\n",
       "      <td>NaN</td>\n",
       "      <td>-1</td>\n",
       "    </tr>\n",
       "    <tr>\n",
       "      <th>1565</th>\n",
       "      <td>#Ù„Ø§ÛÙˆØ±_ÛØ§Ø¦ÛŒÚ©ÙˆØ±Ù¹_Ù¾ÛÙ†Ú†ÛŒÚº #Ø§Ù...</td>\n",
       "      <td>NaN</td>\n",
       "      <td>-1</td>\n",
       "    </tr>\n",
       "    <tr>\n",
       "      <th>1568</th>\n",
       "      <td>#Ù„Ø§ÛÙˆØ±_ÛØ§Ø¦ÛŒÚ©ÙˆØ±Ù¹_Ù¾ÛÙ†Ú†ÛŒÚº #Ø§Ù...</td>\n",
       "      <td>NaN</td>\n",
       "      <td>-1</td>\n",
       "    </tr>\n",
       "    <tr>\n",
       "      <th>2338</th>\n",
       "      <td>@REfenteacher Chat gpt ðŸ˜</td>\n",
       "      <td>NaN</td>\n",
       "      <td>-1</td>\n",
       "    </tr>\n",
       "    <tr>\n",
       "      <th>2844</th>\n",
       "      <td>@KGallagher_SCI Teacher #ChatGPT https://t.co/...</td>\n",
       "      <td>NaN</td>\n",
       "      <td>-1</td>\n",
       "    </tr>\n",
       "    <tr>\n",
       "      <th>3042</th>\n",
       "      <td>How are you using Chat GPT as a teacher? \\n\\n#...</td>\n",
       "      <td>NaN</td>\n",
       "      <td>-1</td>\n",
       "    </tr>\n",
       "    <tr>\n",
       "      <th>3870</th>\n",
       "      <td>Be your own teacher #Ai #ChatGPT #ChatGPTs</td>\n",
       "      <td>NaN</td>\n",
       "      <td>-1</td>\n",
       "    </tr>\n",
       "    <tr>\n",
       "      <th>4146</th>\n",
       "      <td>#NYC #Bans #Students and #Teachers from Using ...</td>\n",
       "      <td>NaN</td>\n",
       "      <td>-1</td>\n",
       "    </tr>\n",
       "    <tr>\n",
       "      <th>4258</th>\n",
       "      <td>Chat gpt is my teacher ðŸ™</td>\n",
       "      <td>NaN</td>\n",
       "      <td>-1</td>\n",
       "    </tr>\n",
       "    <tr>\n",
       "      <th>5112</th>\n",
       "      <td>@wwweuropestudy Chat GPT?</td>\n",
       "      <td>NaN</td>\n",
       "      <td>-1</td>\n",
       "    </tr>\n",
       "    <tr>\n",
       "      <th>6009</th>\n",
       "      <td>What is #ChatGPT? You #needtoknow https://t.co...</td>\n",
       "      <td>NaN</td>\n",
       "      <td>-1</td>\n",
       "    </tr>\n",
       "    <tr>\n",
       "      <th>6318</th>\n",
       "      <td>The #Good and #Bad of #ChatGPT in #Schools htt...</td>\n",
       "      <td>NaN</td>\n",
       "      <td>-1</td>\n",
       "    </tr>\n",
       "    <tr>\n",
       "      <th>7638</th>\n",
       "      <td>What is #ChatGPT? You #needtoknow https://t.co...</td>\n",
       "      <td>NaN</td>\n",
       "      <td>-1</td>\n",
       "    </tr>\n",
       "    <tr>\n",
       "      <th>7765</th>\n",
       "      <td>Chat GPT and other AI #ArtificialIntelligence ...</td>\n",
       "      <td>NaN</td>\n",
       "      <td>-1</td>\n",
       "    </tr>\n",
       "    <tr>\n",
       "      <th>7782</th>\n",
       "      <td>Chat GPT and other AI #ArtificialIntelligence ...</td>\n",
       "      <td>NaN</td>\n",
       "      <td>-1</td>\n",
       "    </tr>\n",
       "    <tr>\n",
       "      <th>8522</th>\n",
       "      <td>ChatGPT #ai #education #chatgpt #tech https://...</td>\n",
       "      <td>NaN</td>\n",
       "      <td>-1</td>\n",
       "    </tr>\n",
       "    <tr>\n",
       "      <th>8564</th>\n",
       "      <td>What is #ChatGPT? You #needtoknow https://t.co...</td>\n",
       "      <td>NaN</td>\n",
       "      <td>-1</td>\n",
       "    </tr>\n",
       "    <tr>\n",
       "      <th>9625</th>\n",
       "      <td>What is #ChatGPT? You #needtoknow! https://t.c...</td>\n",
       "      <td>NaN</td>\n",
       "      <td>-1</td>\n",
       "    </tr>\n",
       "    <tr>\n",
       "      <th>10080</th>\n",
       "      <td>What is #ChatGPT? You #needtoknow https://t.co...</td>\n",
       "      <td>NaN</td>\n",
       "      <td>-1</td>\n",
       "    </tr>\n",
       "    <tr>\n",
       "      <th>10333</th>\n",
       "      <td>What is #ChatGPT? You #needtoknow! https://t.c...</td>\n",
       "      <td>NaN</td>\n",
       "      <td>-1</td>\n",
       "    </tr>\n",
       "    <tr>\n",
       "      <th>12300</th>\n",
       "      <td>ChatGPT #chatgpt #ai #highereducation #scribbl...</td>\n",
       "      <td>NaN</td>\n",
       "      <td>-1</td>\n",
       "    </tr>\n",
       "    <tr>\n",
       "      <th>12622</th>\n",
       "      <td>2023: #Hopes and #fears for #UK #international...</td>\n",
       "      <td>NaN</td>\n",
       "      <td>-1</td>\n",
       "    </tr>\n",
       "    <tr>\n",
       "      <th>12623</th>\n",
       "      <td>2023: #Hopes and #fears for #UK #international...</td>\n",
       "      <td>NaN</td>\n",
       "      <td>-1</td>\n",
       "    </tr>\n",
       "    <tr>\n",
       "      <th>12624</th>\n",
       "      <td>2023: #Hopes and #fears for #UK #international...</td>\n",
       "      <td>NaN</td>\n",
       "      <td>-1</td>\n",
       "    </tr>\n",
       "    <tr>\n",
       "      <th>12779</th>\n",
       "      <td>@_rehan_hassan @Study_lover_02 Chat gpt!?</td>\n",
       "      <td>NaN</td>\n",
       "      <td>-1</td>\n",
       "    </tr>\n",
       "  </tbody>\n",
       "</table>\n",
       "</div>"
      ],
      "text/plain": [
       "                                                 content cleaned_content  \\\n",
       "1188   Should #Maine #Kids Have to Do &amp; #RemoteLe...             NaN   \n",
       "1564   #Ù„Ø§ÛÙˆØ±_ÛØ§Ø¦ÛŒÚ©ÙˆØ±Ù¹_Ù¾ÛÙ†Ú†ÛŒÚº #Ø§Ù...             NaN   \n",
       "1565   #Ù„Ø§ÛÙˆØ±_ÛØ§Ø¦ÛŒÚ©ÙˆØ±Ù¹_Ù¾ÛÙ†Ú†ÛŒÚº #Ø§Ù...             NaN   \n",
       "1568   #Ù„Ø§ÛÙˆØ±_ÛØ§Ø¦ÛŒÚ©ÙˆØ±Ù¹_Ù¾ÛÙ†Ú†ÛŒÚº #Ø§Ù...             NaN   \n",
       "2338                         @REfenteacher Chat gpt ðŸ˜             NaN   \n",
       "2844   @KGallagher_SCI Teacher #ChatGPT https://t.co/...             NaN   \n",
       "3042   How are you using Chat GPT as a teacher? \\n\\n#...             NaN   \n",
       "3870          Be your own teacher #Ai #ChatGPT #ChatGPTs             NaN   \n",
       "4146   #NYC #Bans #Students and #Teachers from Using ...             NaN   \n",
       "4258                         Chat gpt is my teacher ðŸ™             NaN   \n",
       "5112                           @wwweuropestudy Chat GPT?             NaN   \n",
       "6009   What is #ChatGPT? You #needtoknow https://t.co...             NaN   \n",
       "6318   The #Good and #Bad of #ChatGPT in #Schools htt...             NaN   \n",
       "7638   What is #ChatGPT? You #needtoknow https://t.co...             NaN   \n",
       "7765   Chat GPT and other AI #ArtificialIntelligence ...             NaN   \n",
       "7782   Chat GPT and other AI #ArtificialIntelligence ...             NaN   \n",
       "8522   ChatGPT #ai #education #chatgpt #tech https://...             NaN   \n",
       "8564   What is #ChatGPT? You #needtoknow https://t.co...             NaN   \n",
       "9625   What is #ChatGPT? You #needtoknow! https://t.c...             NaN   \n",
       "10080  What is #ChatGPT? You #needtoknow https://t.co...             NaN   \n",
       "10333  What is #ChatGPT? You #needtoknow! https://t.c...             NaN   \n",
       "12300  ChatGPT #chatgpt #ai #highereducation #scribbl...             NaN   \n",
       "12622  2023: #Hopes and #fears for #UK #international...             NaN   \n",
       "12623  2023: #Hopes and #fears for #UK #international...             NaN   \n",
       "12624  2023: #Hopes and #fears for #UK #international...             NaN   \n",
       "12779          @_rehan_hassan @Study_lover_02 Chat gpt!?             NaN   \n",
       "\n",
       "       sentiment  \n",
       "1188          -1  \n",
       "1564          -1  \n",
       "1565          -1  \n",
       "1568          -1  \n",
       "2338          -1  \n",
       "2844          -1  \n",
       "3042          -1  \n",
       "3870          -1  \n",
       "4146          -1  \n",
       "4258          -1  \n",
       "5112          -1  \n",
       "6009          -1  \n",
       "6318          -1  \n",
       "7638          -1  \n",
       "7765          -1  \n",
       "7782          -1  \n",
       "8522          -1  \n",
       "8564          -1  \n",
       "9625          -1  \n",
       "10080         -1  \n",
       "10333         -1  \n",
       "12300         -1  \n",
       "12622         -1  \n",
       "12623         -1  \n",
       "12624         -1  \n",
       "12779         -1  "
      ]
     },
     "execution_count": 5,
     "metadata": {},
     "output_type": "execute_result"
    }
   ],
   "source": [
    "missing_rows = tweets[tweets.isna().any(axis=1)]\n",
    "print(\"Rows with missing values:\")\n",
    "missing_rows"
   ]
  },
  {
   "cell_type": "code",
   "execution_count": 6,
   "id": "66346032",
   "metadata": {},
   "outputs": [
    {
     "name": "stdout",
     "output_type": "stream",
     "text": [
      "                 NaN Values Count  NaN Values Percentage (%)\n",
      "content                         0                        0.0\n",
      "cleaned_content                 0                        0.0\n",
      "sentiment                       0                        0.0\n"
     ]
    }
   ],
   "source": [
    "tweets = tweets.dropna()\n",
    "\n",
    "# Check if rows were dropped\n",
    "nans = tweets.isna().sum().sort_values(ascending = False)\n",
    "pct = (nans/tweets.shape[0]) * 100\n",
    "print(pd.concat([nans, pct], axis = 1).rename(columns = { 0 : 'NaN Values Count', 1 : 'NaN Values Percentage (%)'}).round(2))"
   ]
  },
  {
   "cell_type": "markdown",
   "id": "58f32ad2",
   "metadata": {},
   "source": [
    "# <p> <center style=\"background-color:#6891e8;font-family:Garamond;color:white;font-size:100%;text-align:center;border-radius:0px;padding: 10px;\">  2. Classification Models  </center></p>"
   ]
  },
  {
   "cell_type": "code",
   "execution_count": 7,
   "id": "2bb3abfb",
   "metadata": {},
   "outputs": [
    {
     "name": "stdout",
     "output_type": "stream",
     "text": [
      "Train Sample:  (10700, 3) \n",
      "Validation Sample:  (2140, 3) \n",
      "Test Sample:  (535, 3)\n"
     ]
    }
   ],
   "source": [
    "# First, split the data into train (80%) and temporary (validation + test) (20%) sets\n",
    "train_df, temp_df = train_test_split(tweets, test_size=0.2, random_state=123)\n",
    "\n",
    "# Now, split the temporary set into validation and test sets (80% of temp_df for validation, 20% for test)\n",
    "val_df, test_df = train_test_split(temp_df, test_size=0.2, random_state=123)\n",
    "\n",
    "print('Train Sample: ', train_df.shape, '\\nValidation Sample: ', val_df.shape, '\\nTest Sample: ', test_df.shape)"
   ]
  },
  {
   "cell_type": "code",
   "execution_count": 8,
   "id": "8b07ae26",
   "metadata": {},
   "outputs": [],
   "source": [
    "feature = 'cleaned_content'\n",
    "target = 'sentiment'"
   ]
  },
  {
   "cell_type": "markdown",
   "id": "0525fb76",
   "metadata": {},
   "source": [
    "`TfidfVectorizer` convert a collection of raw documents to a matrix of TF-IDF features[2] that can be used as input to machine learning models. In our case, the number of features (terms) extracted from the text is limited to the top 5,000 most important terms based on their TF-IDF score (frequency of term, adjusted by its importance across the document corpus). This is a way to reduce dimensionality and focus on the most relevant words for classification.\n",
    "\n",
    "Then it learns the vocabulary (the unique terms or words) from the training data and then transforms the text into a matrix of TF-IDF features, where each row corresponds to a document, and each column corresponds to a term (or n-gram) in the vocabulary. The values in the matrix represent the TF-IDF score for each word/term in each document. Finally, we convert the sparse matrix (the result from `fit_transform`) into a dense NumPy array. "
   ]
  },
  {
   "cell_type": "code",
   "execution_count": 9,
   "id": "0ca52151",
   "metadata": {},
   "outputs": [],
   "source": [
    "vectorizer = TfidfVectorizer(max_features=5000)\n",
    "\n",
    "X_train = vectorizer.fit_transform(train_df[feature]).toarray()\n",
    "X_val = vectorizer.transform(val_df[feature]).toarray()\n",
    "X_test = vectorizer.transform(test_df[feature]).toarray()\n",
    "y_train = train_df[target]\n",
    "y_val = val_df[target]\n",
    "y_test = test_df[target]"
   ]
  },
  {
   "cell_type": "markdown",
   "id": "1a0f5889",
   "metadata": {},
   "source": [
    "### Machine Learning Models"
   ]
  },
  {
   "cell_type": "code",
   "execution_count": 10,
   "id": "2463a03d",
   "metadata": {},
   "outputs": [],
   "source": [
    "# Define classifiers\n",
    "classifiers = {\n",
    "    # Linear models\n",
    "    \"Logistic Regression\": LogisticRegression(random_state=123), # Good for multi-class classification\n",
    "    'SGD':SGDClassifier(), # Scalable and efficient for large datasets\n",
    "    \n",
    "    # Probabilistic model\n",
    "    \"Naive Bayes\": MultinomialNB(), # Works well with text data\n",
    "    \n",
    "     # Support-vector-machine\n",
    "    \"LinearSVC\":LinearSVC(), # Good for high-dimensional spaces (in our case, TF-IDF features)\n",
    "    \n",
    "    # Ensemble models - can handle a variety of features (TF-IDF)\n",
    "    \"Random Forest\": RandomForestClassifier(random_state=123),\n",
    "    # \"XGBoost\": XGBClassifier(random_state=123), \n",
    "    \"Extra Trees\": ExtraTreesClassifier(),\n",
    "    # \"Gradient Boost\": GradientBoostingClassifier(),\n",
    "    # Similar to GradientBoost but much faster and scalable\n",
    "    # \"HistGradientBoost\": HistGradientBoostingClassifier()\n",
    "    # \"CatBoost\":CatBoostClassifier(),\n",
    "    \"LGBM\":LGBMClassifier(),\n",
    "    \"AdaBoost\": AdaBoostClassifier(),\n",
    "    \n",
    "    # Neural Network Classifier\n",
    "    \"MLP\": MLPClassifier() # Multi-Layer Perceptron\n",
    "}"
   ]
  },
  {
   "cell_type": "code",
   "execution_count": 11,
   "id": "6e15ca9b",
   "metadata": {
    "scrolled": false
   },
   "outputs": [
    {
     "name": "stderr",
     "output_type": "stream",
     "text": [
      "\r",
      "Training classifiers:   0%|                                                                   | 0/9 [00:00<?, ?model/s]"
     ]
    },
    {
     "name": "stdout",
     "output_type": "stream",
     "text": [
      "\n",
      "Training Logistic Regression...\n"
     ]
    },
    {
     "name": "stderr",
     "output_type": "stream",
     "text": [
      "\r",
      "Training classifiers:  11%|██████▌                                                    | 1/9 [00:49<06:39, 49.91s/model]"
     ]
    },
    {
     "name": "stdout",
     "output_type": "stream",
     "text": [
      "Logistic Regression Accuracy: 0.5930\n",
      "Logistic Regression Cross-Validation Accuracy: 0.5727 ± 0.0086\n",
      "              precision    recall  f1-score   support\n",
      "\n",
      "          -2       0.64      0.48      0.55       242\n",
      "          -1       0.57      0.50      0.53       339\n",
      "           0       0.60      0.63      0.61       360\n",
      "           1       0.48      0.53      0.50       546\n",
      "           2       0.69      0.72      0.70       653\n",
      "\n",
      "    accuracy                           0.59      2140\n",
      "   macro avg       0.59      0.57      0.58      2140\n",
      "weighted avg       0.60      0.59      0.59      2140\n",
      "\n",
      "Confusion Matrix:\n",
      "[[115  43  37  34  13]\n",
      " [ 33 170  40  73  23]\n",
      " [ 12  29 226  70  23]\n",
      " [ 10  43  52 289 152]\n",
      " [ 10  15  23 136 469]]\n",
      "\n",
      "Training SGD...\n"
     ]
    },
    {
     "name": "stderr",
     "output_type": "stream",
     "text": [
      "\r",
      "Training classifiers:  22%|█████████████                                              | 2/9 [02:10<07:57, 68.17s/model]"
     ]
    },
    {
     "name": "stdout",
     "output_type": "stream",
     "text": [
      "SGD Accuracy: 0.5944\n",
      "SGD Cross-Validation Accuracy: 0.5805 ± 0.0109\n",
      "              precision    recall  f1-score   support\n",
      "\n",
      "          -2       0.60      0.59      0.59       242\n",
      "          -1       0.51      0.56      0.54       339\n",
      "           0       0.57      0.66      0.61       360\n",
      "           1       0.57      0.32      0.41       546\n",
      "           2       0.66      0.80      0.72       653\n",
      "\n",
      "    accuracy                           0.59      2140\n",
      "   macro avg       0.58      0.59      0.57      2140\n",
      "weighted avg       0.59      0.59      0.58      2140\n",
      "\n",
      "Confusion Matrix:\n",
      "[[143  38  37  10  14]\n",
      " [ 46 191  48  26  28]\n",
      " [ 21  51 239  28  21]\n",
      " [ 14  72  77 174 209]\n",
      " [ 16  23  20  69 525]]\n",
      "\n",
      "Training Naive Bayes...\n"
     ]
    },
    {
     "name": "stderr",
     "output_type": "stream",
     "text": [
      "\r",
      "Training classifiers:  33%|███████████████████▋                                       | 3/9 [02:13<03:50, 38.43s/model]"
     ]
    },
    {
     "name": "stdout",
     "output_type": "stream",
     "text": [
      "Naive Bayes Accuracy: 0.4897\n",
      "Naive Bayes Cross-Validation Accuracy: 0.4487 ± 0.0109\n",
      "              precision    recall  f1-score   support\n",
      "\n",
      "          -2       0.77      0.29      0.42       242\n",
      "          -1       0.66      0.23      0.34       339\n",
      "           0       0.63      0.32      0.42       360\n",
      "           1       0.37      0.48      0.42       546\n",
      "           2       0.50      0.80      0.61       653\n",
      "\n",
      "    accuracy                           0.49      2140\n",
      "   macro avg       0.59      0.42      0.44      2140\n",
      "weighted avg       0.55      0.49      0.47      2140\n",
      "\n",
      "Confusion Matrix:\n",
      "[[ 70  19  24  73  56]\n",
      " [ 11  79  21 124 104]\n",
      " [  4  10 115 116 115]\n",
      " [  6   8  19 261 252]\n",
      " [  0   3   3 124 523]]\n",
      "\n",
      "Training LinearSVC...\n"
     ]
    },
    {
     "name": "stderr",
     "output_type": "stream",
     "text": [
      "\r",
      "Training classifiers:  44%|██████████████████████████▏                                | 4/9 [02:18<02:06, 25.23s/model]"
     ]
    },
    {
     "name": "stdout",
     "output_type": "stream",
     "text": [
      "LinearSVC Accuracy: 0.6014\n",
      "LinearSVC Cross-Validation Accuracy: 0.5847 ± 0.0070\n",
      "              precision    recall  f1-score   support\n",
      "\n",
      "          -2       0.58      0.59      0.58       242\n",
      "          -1       0.54      0.53      0.54       339\n",
      "           0       0.61      0.64      0.63       360\n",
      "           1       0.51      0.47      0.49       546\n",
      "           2       0.70      0.73      0.71       653\n",
      "\n",
      "    accuracy                           0.60      2140\n",
      "   macro avg       0.59      0.59      0.59      2140\n",
      "weighted avg       0.60      0.60      0.60      2140\n",
      "\n",
      "Confusion Matrix:\n",
      "[[142  34  29  24  13]\n",
      " [ 48 180  37  52  22]\n",
      " [ 23  34 232  53  18]\n",
      " [ 15  65  61 259 146]\n",
      " [ 17  18  20 124 474]]\n",
      "\n",
      "Training Random Forest...\n"
     ]
    },
    {
     "name": "stderr",
     "output_type": "stream",
     "text": [
      "\r",
      "Training classifiers:  56%|████████████████████████████████▏                         | 5/9 [06:14<06:44, 101.00s/model]"
     ]
    },
    {
     "name": "stdout",
     "output_type": "stream",
     "text": [
      "Random Forest Accuracy: 0.6201\n",
      "Random Forest Cross-Validation Accuracy: 0.5958 ± 0.0114\n",
      "              precision    recall  f1-score   support\n",
      "\n",
      "          -2       0.65      0.54      0.59       242\n",
      "          -1       0.57      0.65      0.60       339\n",
      "           0       0.61      0.62      0.61       360\n",
      "           1       0.55      0.51      0.53       546\n",
      "           2       0.70      0.73      0.71       653\n",
      "\n",
      "    accuracy                           0.62      2140\n",
      "   macro avg       0.61      0.61      0.61      2140\n",
      "weighted avg       0.62      0.62      0.62      2140\n",
      "\n",
      "Confusion Matrix:\n",
      "[[131  32  35  26  18]\n",
      " [ 33 220  31  31  24]\n",
      " [ 17  62 222  39  20]\n",
      " [ 14  61  54 280 137]\n",
      " [  8  14  24 133 474]]\n",
      "\n",
      "Training Extra Trees...\n"
     ]
    },
    {
     "name": "stderr",
     "output_type": "stream",
     "text": [
      "\r",
      "Training classifiers:  67%|██████████████████████████████████████▋                   | 6/9 [11:31<08:43, 174.59s/model]"
     ]
    },
    {
     "name": "stdout",
     "output_type": "stream",
     "text": [
      "Extra Trees Accuracy: 0.6491\n",
      "Extra Trees Cross-Validation Accuracy: 0.6264 ± 0.0086\n",
      "              precision    recall  f1-score   support\n",
      "\n",
      "          -2       0.65      0.59      0.61       242\n",
      "          -1       0.65      0.63      0.64       339\n",
      "           0       0.66      0.68      0.67       360\n",
      "           1       0.57      0.57      0.57       546\n",
      "           2       0.71      0.73      0.72       653\n",
      "\n",
      "    accuracy                           0.65      2140\n",
      "   macro avg       0.65      0.64      0.64      2140\n",
      "weighted avg       0.65      0.65      0.65      2140\n",
      "\n",
      "Confusion Matrix:\n",
      "[[142  24  33  23  20]\n",
      " [ 36 214  30  35  24]\n",
      " [ 19  43 246  27  25]\n",
      " [ 15  40  50 311 130]\n",
      " [  8   9  11 149 476]]\n",
      "\n",
      "Training LGBM...\n"
     ]
    },
    {
     "name": "stderr",
     "output_type": "stream",
     "text": [
      "d:\\hp\\ayeti\\pl\\python\\python 3.9\\lib\\site-packages\\sklearn\\utils\\_tags.py:354: FutureWarning: The LGBMClassifier or classes from which it inherits use `_get_tags` and `_more_tags`. Please define the `__sklearn_tags__` method, or inherit from `sklearn.base.BaseEstimator` and/or other appropriate mixins such as `sklearn.base.TransformerMixin`, `sklearn.base.ClassifierMixin`, `sklearn.base.RegressorMixin`, and `sklearn.base.OutlierMixin`. From scikit-learn 1.7, not defining `__sklearn_tags__` will raise an error.\n",
      "  warnings.warn(\n",
      "d:\\hp\\ayeti\\pl\\python\\python 3.9\\lib\\site-packages\\sklearn\\utils\\deprecation.py:151: FutureWarning: 'force_all_finite' was renamed to 'ensure_all_finite' in 1.6 and will be removed in 1.8.\n",
      "  warnings.warn(\n"
     ]
    },
    {
     "name": "stdout",
     "output_type": "stream",
     "text": [
      "[LightGBM] [Info] Auto-choosing row-wise multi-threading, the overhead of testing was 0.021758 seconds.\n",
      "You can set `force_row_wise=true` to remove the overhead.\n",
      "And if memory is not enough, you can set `force_col_wise=true`.\n",
      "[LightGBM] [Info] Total Bins 32013\n",
      "[LightGBM] [Info] Number of data points in the train set: 10700, number of used features: 1152\n",
      "[LightGBM] [Info] Start training from score -2.150305\n",
      "[LightGBM] [Info] Start training from score -1.780792\n",
      "[LightGBM] [Info] Start training from score -1.679600\n",
      "[LightGBM] [Info] Start training from score -1.376622\n",
      "[LightGBM] [Info] Start training from score -1.286745\n"
     ]
    },
    {
     "name": "stderr",
     "output_type": "stream",
     "text": [
      "d:\\hp\\ayeti\\pl\\python\\python 3.9\\lib\\site-packages\\sklearn\\utils\\deprecation.py:151: FutureWarning: 'force_all_finite' was renamed to 'ensure_all_finite' in 1.6 and will be removed in 1.8.\n",
      "  warnings.warn(\n",
      "\r",
      "Training classifiers:  78%|█████████████████████████████████████████████             | 7/9 [11:46<04:04, 122.49s/model]"
     ]
    },
    {
     "name": "stdout",
     "output_type": "stream",
     "text": [
      "LGBM Accuracy: 0.6140\n",
      "LGBM Cross-Validation Accuracy: 0.5824 ± 0.0069\n",
      "              precision    recall  f1-score   support\n",
      "\n",
      "          -2       0.60      0.54      0.57       242\n",
      "          -1       0.59      0.57      0.58       339\n",
      "           0       0.61      0.62      0.61       360\n",
      "           1       0.52      0.51      0.51       546\n",
      "           2       0.71      0.75      0.73       653\n",
      "\n",
      "    accuracy                           0.61      2140\n",
      "   macro avg       0.61      0.60      0.60      2140\n",
      "weighted avg       0.61      0.61      0.61      2140\n",
      "\n",
      "Confusion Matrix:\n",
      "[[131  33  33  30  15]\n",
      " [ 43 194  36  45  21]\n",
      " [ 13  33 224  72  18]\n",
      " [ 17  53  50 277 149]\n",
      " [ 13  15  26 111 488]]\n",
      "\n",
      "Training AdaBoost...\n"
     ]
    },
    {
     "name": "stderr",
     "output_type": "stream",
     "text": [
      "\r",
      "Training classifiers:  89%|███████████████████████████████████████████████████▌      | 8/9 [14:16<02:11, 131.21s/model]"
     ]
    },
    {
     "name": "stdout",
     "output_type": "stream",
     "text": [
      "AdaBoost Accuracy: 0.3977\n",
      "AdaBoost Cross-Validation Accuracy: 0.3524 ± 0.0039\n",
      "              precision    recall  f1-score   support\n",
      "\n",
      "          -2       0.87      0.11      0.20       242\n",
      "          -1       1.00      0.06      0.12       339\n",
      "           0       0.45      0.28      0.35       360\n",
      "           1       0.29      0.71      0.41       546\n",
      "           2       0.61      0.48      0.54       653\n",
      "\n",
      "    accuracy                           0.40      2140\n",
      "   macro avg       0.64      0.33      0.32      2140\n",
      "weighted avg       0.59      0.40      0.37      2140\n",
      "\n",
      "Confusion Matrix:\n",
      "[[ 27   0  21 161  33]\n",
      " [  1  22  23 268  25]\n",
      " [  1   0 102 228  29]\n",
      " [  0   0  45 387 114]\n",
      " [  2   0  38 300 313]]\n",
      "\n",
      "Training MLP...\n"
     ]
    },
    {
     "name": "stderr",
     "output_type": "stream",
     "text": [
      "Training classifiers: 100%|██████████████████████████████████████████████████████████| 9/9 [24:39<00:00, 164.37s/model]"
     ]
    },
    {
     "name": "stdout",
     "output_type": "stream",
     "text": [
      "MLP Accuracy: 0.5949\n",
      "MLP Cross-Validation Accuracy: 0.5655 ± 0.0055\n",
      "              precision    recall  f1-score   support\n",
      "\n",
      "          -2       0.53      0.56      0.54       242\n",
      "          -1       0.50      0.50      0.50       339\n",
      "           0       0.58      0.58      0.58       360\n",
      "           1       0.53      0.57      0.55       546\n",
      "           2       0.75      0.68      0.72       653\n",
      "\n",
      "    accuracy                           0.59      2140\n",
      "   macro avg       0.58      0.58      0.58      2140\n",
      "weighted avg       0.60      0.59      0.60      2140\n",
      "\n",
      "Confusion Matrix:\n",
      "[[136  40  30  26  10]\n",
      " [ 56 171  38  56  18]\n",
      " [ 31  52 209  58  10]\n",
      " [ 17  58  52 312 107]\n",
      " [ 19  22  30 137 445]]\n",
      "\n",
      "Model Comparison:\n",
      "Logistic Regression - Validation Accuracy: 0.5930, Cross-Validation Accuracy: 0.5727 ± 0.0086\n",
      "SGD - Validation Accuracy: 0.5944, Cross-Validation Accuracy: 0.5805 ± 0.0109\n",
      "Naive Bayes - Validation Accuracy: 0.4897, Cross-Validation Accuracy: 0.4487 ± 0.0109\n",
      "LinearSVC - Validation Accuracy: 0.6014, Cross-Validation Accuracy: 0.5847 ± 0.0070\n",
      "Random Forest - Validation Accuracy: 0.6201, Cross-Validation Accuracy: 0.5958 ± 0.0114\n",
      "Extra Trees - Validation Accuracy: 0.6491, Cross-Validation Accuracy: 0.6264 ± 0.0086\n",
      "LGBM - Validation Accuracy: 0.6140, Cross-Validation Accuracy: 0.5824 ± 0.0069\n",
      "AdaBoost - Validation Accuracy: 0.3977, Cross-Validation Accuracy: 0.3524 ± 0.0039\n",
      "MLP - Validation Accuracy: 0.5949, Cross-Validation Accuracy: 0.5655 ± 0.0055\n"
     ]
    },
    {
     "name": "stderr",
     "output_type": "stream",
     "text": [
      "\n"
     ]
    }
   ],
   "source": [
    "results = {}\n",
    "cross_val_results = {}\n",
    "\n",
    "# Wrap the loop with tqdm for progress tracking\n",
    "for name, model in tqdm(classifiers.items(), desc=\"Training classifiers\", unit=\"model\"):\n",
    "    print(f\"\\nTraining {name}...\")\n",
    "    \n",
    "    # Cross-validation\n",
    "    scores = cross_val_score(model, X_train, y_train, cv=5, scoring='accuracy', n_jobs=-1)\n",
    "    cross_val_mean = np.mean(scores)\n",
    "    cross_val_std = np.std(scores)\n",
    "    \n",
    "    # Train and validate on the validation set\n",
    "    model.fit(X_train, y_train)\n",
    "    y_pred = model.predict(X_val)\n",
    "    acc = accuracy_score(y_val, y_pred)\n",
    "    \n",
    "    # Print evaluation metrics - accuracy, cross-validation accuracy, precision, recall, f1-score, support\n",
    "    print(f\"{name} Accuracy: {acc:.4f}\")\n",
    "    print(f\"{name} Cross-Validation Accuracy: {cross_val_mean:.4f} ± {cross_val_std:.4f}\")\n",
    "    print(classification_report(y_val, y_pred))\n",
    "    \n",
    "    # Generate confusion matrix\n",
    "    conf_matrix = confusion_matrix(y_val, y_pred)\n",
    "    print(\"Confusion Matrix:\")\n",
    "    print(conf_matrix)\n",
    "    \n",
    "    results[name] = acc\n",
    "    cross_val_results[name] = (cross_val_mean, cross_val_std)\n",
    "\n",
    "# Compare results\n",
    "print(\"\\nModel Comparison:\")\n",
    "for name in classifiers.keys():\n",
    "    val_acc = results[name]\n",
    "    cross_val_mean, cross_val_std = cross_val_results[name]\n",
    "    print(f\"{name} - Validation Accuracy: {val_acc:.4f}, Cross-Validation Accuracy: {cross_val_mean:.4f} ± {cross_val_std:.4f}\")"
   ]
  },
  {
   "cell_type": "code",
   "execution_count": 12,
   "id": "9a5a07bf",
   "metadata": {},
   "outputs": [
    {
     "data": {
      "image/png": "[encoded data removed]",
      "text/plain": [
       "<Figure size 720x432 with 1 Axes>"
      ]
     },
     "metadata": {
      "needs_background": "light"
     },
     "output_type": "display_data"
    }
   ],
   "source": [
    "# Plotting the comparison between models\n",
    "fig, ax = plt.subplots(figsize=(10, 6))\n",
    "\n",
    "model_names = list(classifiers.keys())\n",
    "validation_accuracies = list(results.values())\n",
    "cross_val_means = [cross_val_results[name][0] for name in model_names]\n",
    "cross_val_stds = [cross_val_results[name][1] for name in model_names]\n",
    "\n",
    "ax.bar(model_names, cross_val_means, yerr=cross_val_stds, capsize=5, color=colour, edgecolor='black')\n",
    "for i, acc in enumerate(validation_accuracies):\n",
    "    ax.text(i, cross_val_means[i] + cross_val_stds[i] + 0.01, f'{acc:.4f}', ha='center', va='bottom', fontsize=10)\n",
    "\n",
    "ax.set_title(\"Model Comparison with Cross-Validation Error Bars\", fontsize=14)\n",
    "ax.set_xlabel(\"Classifiers\", fontsize=12)\n",
    "ax.set_ylabel(\"Accuracy\", fontsize=12)\n",
    "ax.set_ylim(0, 1)\n",
    "plt.xticks(rotation=45)\n",
    "plt.tight_layout()\n",
    "\n",
    "plt.show()"
   ]
  },
  {
   "cell_type": "markdown",
   "id": "505efb90",
   "metadata": {},
   "source": [
    "##### Selecting Top 3 Models for further improvement with hyperparameter tuning\n",
    "\n",
    "- `Extra Trees` classifier demonstrated the best performance among all models, with a `validation accuracy of 64.91% and a cross-validation accuracy of 62.64% ± 0.86%`. This classifier is inherently robust and less prone to overfitting due to its random feature selection during tree building.\n",
    "\n",
    "- `Random Forest` recorded a `validation accuracy of 62.01% and a cross-validation accuracy of 59.58% ± 1.14%`. Random Forest's ensemble nature allows it to handle non-linear relationships well and provides robustness against overfitting.\n",
    "\n",
    "- `LGBM (LightGBM)` showed a `validation accuracy of 61.40% and a cross-validation accuracy of 58.24% ± 0.69%`. LightGBM is a gradient boosting framework optimized for speed and performance, particularly on large datasets with many features.\n",
    "\n",
    "In general, the ensemble methods (Extra Trees and Random Forest) consistently outperformed other models in terms of both validation and cross-validation accuracy. This aligns with the general understanding that ensemble approaches effectively reduce overfitting and variance while capturing complex patterns in the data. Their ability to aggregate multiple weak learners into a strong predictive model makes them highly suitable for sentiment classification tasks."
   ]
  },
  {
   "cell_type": "code",
   "execution_count": 15,
   "id": "ffdee144",
   "metadata": {},
   "outputs": [],
   "source": [
    "# Hyper-Parameter Tuning\n",
    "\n",
    "# Define the top 3 classifiers\n",
    "classifiers = {\n",
    "    # Ensemble models\n",
    "    \"Random Forest\": RandomForestClassifier(random_state=123),\n",
    "    \"Extra Trees\": ExtraTreesClassifier(),\n",
    "    \"LGBM\":LGBMClassifier()\n",
    "}\n",
    "\n",
    "# The commented parameters were used before to get the best parameter combination which is uncommented\n",
    "param_grids = {\n",
    "    # 'n_estimators': [50, 100, 150, 200, 250], 'max_depth': [None, 1, 2, 3, 4, 5], 'min_samples_split': [1, 2, 3, 4, 5], 'min_samples_leaf': [1, 2, 3]\n",
    "    'Random Forest': {'n_estimators': [150], 'max_depth': [None], 'min_samples_split': [3], 'min_samples_leaf': [1]},\n",
    "    # 'n_estimators': [50, 100, 150, 200, 250], 'max_depth': [None, 1, 2, 3, 4, 5], 'min_samples_split': [1, 2, 3, 4, 5], 'min_samples_leaf': [1, 2, 3], 'max_features': ['auto', 'sqrt', 'log2']\n",
    "    'Extra Trees': {'n_estimators': [150], 'max_depth': [None], 'min_samples_split': [2], 'min_samples_leaf': [1], 'max_features': ['sqrt']},\n",
    "    # 'n_estimators': [50, 100, 150, 200, 250], 'learning_rate': [0.01, 0.05, 0.1], 'num_leaves': [31, 50, 100], 'max_depth': [-1, 5, 10], 'min_data_in_leaf': [20, 50], 'feature_fraction': [0.6, 0.7, 0.8, 0.9, 1.0]\n",
    "    'LGBM': {'n_estimators': [150], 'learning_rate': [0.1], 'num_leaves': [31], 'max_depth': [-1], 'min_data_in_leaf': [20]}\n",
    "}\n"
   ]
  },
  {
   "cell_type": "code",
   "execution_count": 16,
   "id": "d7073c27",
   "metadata": {
    "scrolled": false
   },
   "outputs": [
    {
     "name": "stdout",
     "output_type": "stream",
     "text": [
      "\n",
      "Tuning Random Forest...\n",
      "Fitting 3 folds for each of 1 candidates, totalling 3 fits\n",
      "\n",
      "Best Parameters for RandomForestClassifier: {'max_depth': None, 'min_samples_leaf': 1, 'min_samples_split': 3, 'n_estimators': 150}\n",
      "RandomForestClassifier Accuracy on Validation Set: 0.6121\n",
      "RandomForestClassifier Cross-Validation Accuracy: 0.5956 ± 0.0110\n",
      "Classification Report:\n",
      "              precision    recall  f1-score   support\n",
      "\n",
      "          -2       0.65      0.53      0.58       242\n",
      "          -1       0.57      0.64      0.60       339\n",
      "           0       0.61      0.62      0.62       360\n",
      "           1       0.53      0.48      0.50       546\n",
      "           2       0.68      0.73      0.71       653\n",
      "\n",
      "    accuracy                           0.61      2140\n",
      "   macro avg       0.61      0.60      0.60      2140\n",
      "weighted avg       0.61      0.61      0.61      2140\n",
      "\n",
      "\n",
      "Tuning Extra Trees...\n",
      "Fitting 3 folds for each of 1 candidates, totalling 3 fits\n",
      "\n",
      "Best Parameters for ExtraTreesClassifier: {'max_depth': None, 'max_features': 'sqrt', 'min_samples_leaf': 1, 'min_samples_split': 2, 'n_estimators': 150}\n",
      "ExtraTreesClassifier Accuracy on Validation Set: 0.6444\n",
      "ExtraTreesClassifier Cross-Validation Accuracy: 0.6279 ± 0.0073\n",
      "Classification Report:\n",
      "              precision    recall  f1-score   support\n",
      "\n",
      "          -2       0.65      0.60      0.62       242\n",
      "          -1       0.67      0.63      0.65       339\n",
      "           0       0.65      0.69      0.67       360\n",
      "           1       0.55      0.55      0.55       546\n",
      "           2       0.70      0.73      0.72       653\n",
      "\n",
      "    accuracy                           0.64      2140\n",
      "   macro avg       0.64      0.64      0.64      2140\n",
      "weighted avg       0.64      0.64      0.64      2140\n",
      "\n",
      "\n",
      "Tuning LGBM...\n",
      "Fitting 3 folds for each of 1 candidates, totalling 3 fits\n"
     ]
    },
    {
     "name": "stderr",
     "output_type": "stream",
     "text": [
      "d:\\hp\\ayeti\\pl\\python\\python 3.9\\lib\\site-packages\\sklearn\\utils\\_tags.py:354: FutureWarning: The LGBMClassifier or classes from which it inherits use `_get_tags` and `_more_tags`. Please define the `__sklearn_tags__` method, or inherit from `sklearn.base.BaseEstimator` and/or other appropriate mixins such as `sklearn.base.TransformerMixin`, `sklearn.base.ClassifierMixin`, `sklearn.base.RegressorMixin`, and `sklearn.base.OutlierMixin`. From scikit-learn 1.7, not defining `__sklearn_tags__` will raise an error.\n",
      "  warnings.warn(\n",
      "d:\\hp\\ayeti\\pl\\python\\python 3.9\\lib\\site-packages\\sklearn\\utils\\deprecation.py:151: FutureWarning: 'force_all_finite' was renamed to 'ensure_all_finite' in 1.6 and will be removed in 1.8.\n",
      "  warnings.warn(\n"
     ]
    },
    {
     "name": "stdout",
     "output_type": "stream",
     "text": [
      "[LightGBM] [Warning] min_data_in_leaf is set=20, min_child_samples=20 will be ignored. Current value: min_data_in_leaf=20\n",
      "[LightGBM] [Warning] min_data_in_leaf is set=20, min_child_samples=20 will be ignored. Current value: min_data_in_leaf=20\n",
      "[LightGBM] [Info] Auto-choosing row-wise multi-threading, the overhead of testing was 0.049481 seconds.\n",
      "You can set `force_row_wise=true` to remove the overhead.\n",
      "And if memory is not enough, you can set `force_col_wise=true`.\n",
      "[LightGBM] [Info] Total Bins 32013\n",
      "[LightGBM] [Info] Number of data points in the train set: 10700, number of used features: 1152\n",
      "[LightGBM] [Info] Start training from score -2.150305\n",
      "[LightGBM] [Info] Start training from score -1.780792\n",
      "[LightGBM] [Info] Start training from score -1.679600\n",
      "[LightGBM] [Info] Start training from score -1.376622\n",
      "[LightGBM] [Info] Start training from score -1.286745\n",
      "\n",
      "Best Parameters for LGBMClassifier: {'learning_rate': 0.1, 'max_depth': -1, 'min_data_in_leaf': 20, 'n_estimators': 150, 'num_leaves': 31}\n",
      "[LightGBM] [Warning] min_data_in_leaf is set=20, min_child_samples=20 will be ignored. Current value: min_data_in_leaf=20\n"
     ]
    },
    {
     "name": "stderr",
     "output_type": "stream",
     "text": [
      "d:\\hp\\ayeti\\pl\\python\\python 3.9\\lib\\site-packages\\sklearn\\utils\\deprecation.py:151: FutureWarning: 'force_all_finite' was renamed to 'ensure_all_finite' in 1.6 and will be removed in 1.8.\n",
      "  warnings.warn(\n",
      "d:\\hp\\ayeti\\pl\\python\\python 3.9\\lib\\site-packages\\sklearn\\utils\\_tags.py:354: FutureWarning: The LGBMClassifier or classes from which it inherits use `_get_tags` and `_more_tags`. Please define the `__sklearn_tags__` method, or inherit from `sklearn.base.BaseEstimator` and/or other appropriate mixins such as `sklearn.base.TransformerMixin`, `sklearn.base.ClassifierMixin`, `sklearn.base.RegressorMixin`, and `sklearn.base.OutlierMixin`. From scikit-learn 1.7, not defining `__sklearn_tags__` will raise an error.\n",
      "  warnings.warn(\n"
     ]
    },
    {
     "name": "stdout",
     "output_type": "stream",
     "text": [
      "LGBMClassifier Accuracy on Validation Set: 0.6173\n",
      "LGBMClassifier Cross-Validation Accuracy: 0.5859 ± 0.0076\n",
      "Classification Report:\n",
      "              precision    recall  f1-score   support\n",
      "\n",
      "          -2       0.60      0.52      0.56       242\n",
      "          -1       0.59      0.57      0.58       339\n",
      "           0       0.61      0.63      0.62       360\n",
      "           1       0.51      0.53      0.52       546\n",
      "           2       0.73      0.74      0.74       653\n",
      "\n",
      "    accuracy                           0.62      2140\n",
      "   macro avg       0.61      0.60      0.60      2140\n",
      "weighted avg       0.62      0.62      0.62      2140\n",
      "\n",
      "\n",
      "\n",
      "Model Comparison (Validation Accuracy & Cross-Validation Accuracy):\n",
      "Random Forest: Best Params - {'max_depth': None, 'min_samples_leaf': 1, 'min_samples_split': 3, 'n_estimators': 150}, Accuracy - 0.6121, Cross-Validation Accuracy: 0.5956 ± 0.0110\n",
      "Extra Trees: Best Params - {'max_depth': None, 'max_features': 'sqrt', 'min_samples_leaf': 1, 'min_samples_split': 2, 'n_estimators': 150}, Accuracy - 0.6444, Cross-Validation Accuracy: 0.6279 ± 0.0073\n",
      "LGBM: Best Params - {'learning_rate': 0.1, 'max_depth': -1, 'min_data_in_leaf': 20, 'n_estimators': 150, 'num_leaves': 31}, Accuracy - 0.6173, Cross-Validation Accuracy: 0.5859 ± 0.0076\n"
     ]
    }
   ],
   "source": [
    "# Tune the models\n",
    "def train_and_evaluate_model(model, param_grid, X_train, y_train, X_val, y_val):\n",
    "    \n",
    "    # Use GridSearchCV with 3 cross-validation folds\n",
    "    grid_search = GridSearchCV(estimator=model, param_grid=param_grid, cv=3, scoring='accuracy', n_jobs=-1, verbose=1)\n",
    "    \n",
    "    # Fit the model\n",
    "    grid_search.fit(X_train, y_train)\n",
    "    \n",
    "    # Best model and hyperparameters\n",
    "    best_model = grid_search.best_estimator_\n",
    "    best_params = grid_search.best_params_\n",
    "    print(f\"\\nBest Parameters for {model.__class__.__name__}: {best_params}\")\n",
    "    \n",
    "    # Predict on the validation set\n",
    "    y_pred = best_model.predict(X_val)\n",
    "    acc = accuracy_score(y_val, y_pred)\n",
    "    \n",
    "    # Cross-validation\n",
    "    scores = cross_val_score(best_model, X_train, y_train, cv=5, scoring='accuracy', n_jobs=-1)\n",
    "    cross_val_mean = np.mean(scores)\n",
    "    cross_val_std = np.std(scores)\n",
    "    \n",
    "    # Print the evaluation metrics - accuracy, cross-validation accuracy, precision, recall, f1-score, support\n",
    "    print(f\"{model.__class__.__name__} Accuracy on Validation Set: {acc:.4f}\")\n",
    "    print(f\"{model.__class__.__name__} Cross-Validation Accuracy: {cross_val_mean:.4f} ± {cross_val_std:.4f}\")\n",
    "    print(f\"Classification Report:\\n{classification_report(y_val, y_pred)}\")\n",
    "    \n",
    "    return best_model, best_params, acc, cross_val_mean, cross_val_std\n",
    "\n",
    "results = {}\n",
    "\n",
    "# Train each model with hyperparameter tuning\n",
    "for name, model in classifiers.items():\n",
    "    print(f\"\\nTuning {name}...\")\n",
    "    best_model, best_params, acc, cross_val_mean, cross_val_std = train_and_evaluate_model(model, param_grids[name], X_train, y_train, X_val, y_val)\n",
    "    results[name] = {'best_model': best_model, 'best_params': best_params, 'accuracy': acc, 'cross_val_mean': cross_val_mean, 'cross_val_std': cross_val_std}\n",
    "\n",
    "print(\"\\n\\nModel Comparison (Validation Accuracy & Cross-Validation Accuracy):\")\n",
    "for name, result in results.items():\n",
    "    print(f\"{name}: Best Params - {result['best_params']}, Accuracy - {result['accuracy']:.4f}, Cross-Validation Accuracy: {result['cross_val_mean']:.4f} ± {result['cross_val_std']:.4f}\")"
   ]
  },
  {
   "cell_type": "code",
   "execution_count": 18,
   "id": "a952c301",
   "metadata": {},
   "outputs": [
    {
     "data": {
      "text/html": [
       "<div>\n",
       "<style scoped>\n",
       "    .dataframe tbody tr th:only-of-type {\n",
       "        vertical-align: middle;\n",
       "    }\n",
       "\n",
       "    .dataframe tbody tr th {\n",
       "        vertical-align: top;\n",
       "    }\n",
       "\n",
       "    .dataframe thead th {\n",
       "        text-align: right;\n",
       "    }\n",
       "</style>\n",
       "<table border=\"1\" class=\"dataframe\">\n",
       "  <thead>\n",
       "    <tr style=\"text-align: right;\">\n",
       "      <th></th>\n",
       "      <th>Model</th>\n",
       "      <th>Best Params</th>\n",
       "      <th>Validation Accuracy</th>\n",
       "      <th>Cross-Validation Accuracy Mean</th>\n",
       "      <th>Cross-Validation Accuracy Std</th>\n",
       "    </tr>\n",
       "  </thead>\n",
       "  <tbody>\n",
       "    <tr>\n",
       "      <th>0</th>\n",
       "      <td>Random Forest</td>\n",
       "      <td>{'max_depth': None, 'min_samples_leaf': 1, 'mi...</td>\n",
       "      <td>0.6121</td>\n",
       "      <td>0.5956</td>\n",
       "      <td>0.0110</td>\n",
       "    </tr>\n",
       "    <tr>\n",
       "      <th>1</th>\n",
       "      <td>Extra Trees</td>\n",
       "      <td>{'max_depth': None, 'max_features': 'sqrt', 'm...</td>\n",
       "      <td>0.6444</td>\n",
       "      <td>0.6279</td>\n",
       "      <td>0.0073</td>\n",
       "    </tr>\n",
       "    <tr>\n",
       "      <th>2</th>\n",
       "      <td>LGBM</td>\n",
       "      <td>{'feature_fraction': 1.0, 'learning_rate': 0.1...</td>\n",
       "      <td>0.6173</td>\n",
       "      <td>0.5859</td>\n",
       "      <td>0.0076</td>\n",
       "    </tr>\n",
       "  </tbody>\n",
       "</table>\n",
       "</div>"
      ],
      "text/plain": [
       "           Model                                        Best Params  \\\n",
       "0  Random Forest  {'max_depth': None, 'min_samples_leaf': 1, 'mi...   \n",
       "1    Extra Trees  {'max_depth': None, 'max_features': 'sqrt', 'm...   \n",
       "2           LGBM  {'feature_fraction': 1.0, 'learning_rate': 0.1...   \n",
       "\n",
       "   Validation Accuracy  Cross-Validation Accuracy Mean  \\\n",
       "0               0.6121                          0.5956   \n",
       "1               0.6444                          0.6279   \n",
       "2               0.6173                          0.5859   \n",
       "\n",
       "   Cross-Validation Accuracy Std  \n",
       "0                         0.0110  \n",
       "1                         0.0073  \n",
       "2                         0.0076  "
      ]
     },
     "execution_count": 18,
     "metadata": {},
     "output_type": "execute_result"
    }
   ],
   "source": [
    "# Create a dictionary with the model comparison data\n",
    "\n",
    "model_data = {\n",
    "    'Model': ['Random Forest', 'Extra Trees', 'LGBM'],\n",
    "    'Best Params': [\n",
    "        \"{'max_depth': None, 'min_samples_leaf': 1, 'min_samples_split': 3, 'n_estimators': 150}\",\n",
    "        \"{'max_depth': None, 'max_features': 'sqrt', 'min_samples_leaf': 1, 'min_samples_split': 2, 'n_estimators': 150}\",\n",
    "        \"{'feature_fraction': 1.0, 'learning_rate': 0.1, 'max_depth': -1, 'min_data_in_leaf': 20, 'n_estimators': 150, 'num_leaves': 31}\"\n",
    "    ],\n",
    "    'Validation Accuracy': [0.6121, 0.6444, 0.6173],\n",
    "    'Cross-Validation Accuracy Mean': [0.5956, 0.6279, 0.5859],\n",
    "    'Cross-Validation Accuracy Std': [0.0110, 0.0073, 0.0076]\n",
    "}\n",
    "\n",
    "model_df = pd.DataFrame(model_data)\n",
    "model_df"
   ]
  },
  {
   "cell_type": "code",
   "execution_count": 19,
   "id": "d7c63367",
   "metadata": {},
   "outputs": [
    {
     "data": {
      "image/png": "[encoded data removed]",
      "text/plain": [
       "<Figure size 720x432 with 1 Axes>"
      ]
     },
     "metadata": {
      "needs_background": "light"
     },
     "output_type": "display_data"
    }
   ],
   "source": [
    "# Plotting the metrics (Validation Accuracy vs. Cross-Validation Accuracy)\n",
    "\n",
    "plt.figure(figsize=(10, 6))\n",
    "bar_width = 0.35\n",
    "index = np.arange(len(model_df['Model']))\n",
    "plt.bar(index, model_df['Validation Accuracy'], bar_width,  label='Validation Accuracy', color = colour)\n",
    "plt.bar(index + bar_width, model_df['Cross-Validation Accuracy Mean'], bar_width, color='#4f7cbf', alpha=0.6, label='Cross-Validation Accuracy Mean')\n",
    "plt.errorbar(index + bar_width, model_df['Cross-Validation Accuracy Mean'], yerr=model_df['Cross-Validation Accuracy Std'], fmt='none', color='black', capsize=5)\n",
    "plt.xlabel('Models')\n",
    "plt.ylabel('Accuracy')\n",
    "plt.title('Model Comparison (Validation Accuracy & Cross-Validation Accuracy)')\n",
    "plt.xticks(index + bar_width / 2, model_df['Model'], rotation=45, ha='right')\n",
    "\n",
    "plt.legend()\n",
    "plt.tight_layout()\n",
    "plt.show()"
   ]
  },
  {
   "cell_type": "markdown",
   "id": "9e0d5362",
   "metadata": {},
   "source": [
    "The model comparison reveals that the `Extra Trees` classifier outperformed the other models with a validation accuracy of 64.44% and a cross-validation accuracy of 62.79% (±0.0073). The `Random Forest` achieved a validation accuracy of 61.21% and cross-validation accuracy of 59.56% (±0.0110), while the LGBM model had a validation accuracy of 61.73% and cross-validation accuracy of 58.59% (±0.0076). This highlights `Extra Trees` as the most effective model for this dataset."
   ]
  },
  {
   "cell_type": "code",
   "execution_count": 22,
   "id": "39ad4d19",
   "metadata": {},
   "outputs": [],
   "source": [
    "# Predicting on test sample\n",
    "\n",
    "# Define the top 3 classifiers\n",
    "classifiers = {\n",
    "    # Ensemble models\n",
    "    \"Random Forest\": RandomForestClassifier(random_state=123),\n",
    "    \"Extra Trees\": ExtraTreesClassifier(random_state=123),\n",
    "    \"LGBM\":LGBMClassifier(random_state=123)\n",
    "}\n",
    "\n",
    "# Define parameters\n",
    "param_grids = {\n",
    "    'Random Forest': {'n_estimators': [150], 'max_depth': [None], 'min_samples_split': [3], 'min_samples_leaf': [1]},\n",
    "    'Extra Trees': {'n_estimators': [150], 'max_depth': [None], 'min_samples_split': [2], 'min_samples_leaf': [1], 'max_features': ['sqrt']},\n",
    "    'LGBM': {'n_estimators': [150], 'learning_rate': [0.1], 'num_leaves': [31], 'max_depth': [-1], 'min_data_in_leaf': [20]}\n",
    "}"
   ]
  },
  {
   "cell_type": "code",
   "execution_count": 23,
   "id": "5b77ad4d",
   "metadata": {
    "scrolled": false
   },
   "outputs": [
    {
     "name": "stderr",
     "output_type": "stream",
     "text": [
      "\r",
      "Testing classifiers:   0%|                                                                    | 0/3 [00:00<?, ?model/s]"
     ]
    },
    {
     "name": "stdout",
     "output_type": "stream",
     "text": [
      "\n",
      "Testing Random Forest...\n"
     ]
    },
    {
     "name": "stderr",
     "output_type": "stream",
     "text": [
      "\r",
      "Testing classifiers:  33%|████████████████████                                        | 1/3 [01:15<02:31, 75.58s/model]"
     ]
    },
    {
     "name": "stdout",
     "output_type": "stream",
     "text": [
      "Random Forest Accuracy: 0.6075\n",
      "Random Forest Precision: 0.6152\n",
      "Random Forest Recall: 0.5967\n",
      "Random Forest F1 Score: 0.5987\n",
      "Random Forest ROC AUC: 0.8642\n",
      "              precision    recall  f1-score   support\n",
      "\n",
      "          -2       0.74      0.52      0.61        66\n",
      "          -1       0.55      0.60      0.57        93\n",
      "           0       0.57      0.65      0.61        97\n",
      "           1       0.56      0.44      0.49       133\n",
      "           2       0.66      0.78      0.72       146\n",
      "\n",
      "    accuracy                           0.61       535\n",
      "   macro avg       0.62      0.60      0.60       535\n",
      "weighted avg       0.61      0.61      0.60       535\n",
      "\n",
      "Confusion Matrix:\n",
      "[[ 34  15   6   3   8]\n",
      " [  6  56  15   9   7]\n",
      " [  1  14  63  13   6]\n",
      " [  3  14  21  58  37]\n",
      " [  2   3   6  21 114]]\n",
      "\n",
      "Testing Extra Trees...\n"
     ]
    },
    {
     "name": "stderr",
     "output_type": "stream",
     "text": [
      "\r",
      "Testing classifiers:  67%|███████████████████████████████████████▎                   | 2/3 [03:28<01:49, 109.56s/model]"
     ]
    },
    {
     "name": "stdout",
     "output_type": "stream",
     "text": [
      "Extra Trees Accuracy: 0.6654\n",
      "Extra Trees Precision: 0.6672\n",
      "Extra Trees Recall: 0.6494\n",
      "Extra Trees F1 Score: 0.6534\n",
      "Extra Trees ROC AUC: 0.8754\n",
      "              precision    recall  f1-score   support\n",
      "\n",
      "          -2       0.72      0.55      0.62        66\n",
      "          -1       0.66      0.59      0.62        93\n",
      "           0       0.62      0.73      0.67        97\n",
      "           1       0.62      0.56      0.59       133\n",
      "           2       0.71      0.82      0.76       146\n",
      "\n",
      "    accuracy                           0.67       535\n",
      "   macro avg       0.67      0.65      0.65       535\n",
      "weighted avg       0.67      0.67      0.66       535\n",
      "\n",
      "Confusion Matrix:\n",
      "[[ 36  15   6   4   5]\n",
      " [  7  55  16   9   6]\n",
      " [  3   5  71  13   5]\n",
      " [  3   6  18  74  32]\n",
      " [  1   2   4  19 120]]\n",
      "\n",
      "Testing LGBM...\n"
     ]
    },
    {
     "name": "stderr",
     "output_type": "stream",
     "text": [
      "d:\\hp\\ayeti\\pl\\python\\python 3.9\\lib\\site-packages\\sklearn\\utils\\deprecation.py:151: FutureWarning: 'force_all_finite' was renamed to 'ensure_all_finite' in 1.6 and will be removed in 1.8.\n",
      "  warnings.warn(\n"
     ]
    },
    {
     "name": "stdout",
     "output_type": "stream",
     "text": [
      "[LightGBM] [Info] Auto-choosing row-wise multi-threading, the overhead of testing was 0.028055 seconds.\n",
      "You can set `force_row_wise=true` to remove the overhead.\n",
      "And if memory is not enough, you can set `force_col_wise=true`.\n",
      "[LightGBM] [Info] Total Bins 32013\n",
      "[LightGBM] [Info] Number of data points in the train set: 10700, number of used features: 1152\n",
      "[LightGBM] [Info] Start training from score -2.150305\n",
      "[LightGBM] [Info] Start training from score -1.780792\n",
      "[LightGBM] [Info] Start training from score -1.679600\n",
      "[LightGBM] [Info] Start training from score -1.376622\n",
      "[LightGBM] [Info] Start training from score -1.286745\n"
     ]
    },
    {
     "name": "stderr",
     "output_type": "stream",
     "text": [
      "d:\\hp\\ayeti\\pl\\python\\python 3.9\\lib\\site-packages\\sklearn\\utils\\deprecation.py:151: FutureWarning: 'force_all_finite' was renamed to 'ensure_all_finite' in 1.6 and will be removed in 1.8.\n",
      "  warnings.warn(\n",
      "d:\\hp\\ayeti\\pl\\python\\python 3.9\\lib\\site-packages\\sklearn\\utils\\deprecation.py:151: FutureWarning: 'force_all_finite' was renamed to 'ensure_all_finite' in 1.6 and will be removed in 1.8.\n",
      "  warnings.warn(\n",
      "Testing classifiers: 100%|████████████████████████████████████████████████████████████| 3/3 [03:32<00:00, 70.89s/model]"
     ]
    },
    {
     "name": "stdout",
     "output_type": "stream",
     "text": [
      "LGBM Accuracy: 0.6168\n",
      "LGBM Precision: 0.6100\n",
      "LGBM Recall: 0.6028\n",
      "LGBM F1 Score: 0.6044\n",
      "LGBM ROC AUC: 0.8496\n",
      "              precision    recall  f1-score   support\n",
      "\n",
      "          -2       0.61      0.53      0.57        66\n",
      "          -1       0.58      0.55      0.56        93\n",
      "           0       0.64      0.66      0.65        97\n",
      "           1       0.54      0.48      0.51       133\n",
      "           2       0.68      0.79      0.73       146\n",
      "\n",
      "    accuracy                           0.62       535\n",
      "   macro avg       0.61      0.60      0.60       535\n",
      "weighted avg       0.61      0.62      0.61       535\n",
      "\n",
      "Confusion Matrix:\n",
      "[[ 35  12   3   9   7]\n",
      " [ 11  51  10  15   6]\n",
      " [  3   6  64  16   8]\n",
      " [  5  12  18  64  34]\n",
      " [  3   7   5  15 116]]\n",
      "               Accuracy  Precision    Recall  F1 Score   ROC AUC\n",
      "Random Forest  0.607477   0.615240  0.596740  0.598741  0.864228\n",
      "Extra Trees    0.665421   0.667235  0.649424  0.653427  0.875391\n",
      "LGBM           0.616822   0.609952  0.602841  0.604437  0.849584\n"
     ]
    },
    {
     "name": "stderr",
     "output_type": "stream",
     "text": [
      "\n"
     ]
    }
   ],
   "source": [
    "# Initialize dictionaries to store scores\n",
    "accuracy_scores = dict()\n",
    "precision_scores = dict()\n",
    "recall_scores = dict()\n",
    "f1_scores = dict()\n",
    "roc_auc_scores = dict()\n",
    "\n",
    "# Wrap the loop with tqdm for progress tracking\n",
    "for name, model in tqdm(classifiers.items(), desc=\"Testing classifiers\", unit=\"model\"):\n",
    "    print(f\"\\nTesting {name}...\")\n",
    "    \n",
    "    # Train and validate on the test set\n",
    "    model.fit(X_train, y_train)\n",
    "    y_pred = model.predict(X_test)\n",
    "    \n",
    "    # Check if the model supports probability predictions (e.g., for ROC AUC calculation)\n",
    "    if hasattr(model, \"predict_proba\"):\n",
    "        y_prob = model.predict_proba(X_test)  # Predict probability scores for each class\n",
    "    else:\n",
    "        y_prob = None # If not supported, set probabilities to None\n",
    "    \n",
    "    # Calculate performance metric\n",
    "    acc = accuracy_score(y_test, y_pred)\n",
    "    precision = precision_score(y_test, y_pred, average='macro')\n",
    "    recall = recall_score(y_test, y_pred, average='macro')\n",
    "    f1 = f1_score(y_test, y_pred, average='macro')\n",
    "    \n",
    "    # Calculate ROC AUC score if probability predictions are available\n",
    "    if y_prob is not None:\n",
    "        # Compute ROC AUC for multi-class (one-vs-rest)\n",
    "        roc_auc = roc_auc_score(y_test, y_prob, multi_class='ovr')\n",
    "    else:\n",
    "        # Set ROC AUC to NaN if probabilities are unavailable\n",
    "        roc_auc = np.nan\n",
    "    \n",
    "    # Print performance metrics for the current model\n",
    "    print(f\"{name} Accuracy: {acc:.4f}\")\n",
    "    print(f\"{name} Precision: {precision:.4f}\")\n",
    "    print(f\"{name} Recall: {recall:.4f}\")\n",
    "    print(f\"{name} F1 Score: {f1:.4f}\")\n",
    "    print(f\"{name} ROC AUC: {roc_auc:.4f}\")\n",
    "    \n",
    "    print(classification_report(y_test, y_pred))\n",
    "    \n",
    "    # Generate confusion matrix\n",
    "    conf_matrix = confusion_matrix(y_test, y_pred)\n",
    "    print(\"Confusion Matrix:\")\n",
    "    print(conf_matrix)\n",
    "    \n",
    "    # Store the computed metrics for comparison\n",
    "    accuracy_scores[name] = acc\n",
    "    precision_scores[name] = precision\n",
    "    recall_scores[name] = recall\n",
    "    f1_scores[name] = f1\n",
    "    roc_auc_scores[name] = roc_auc\n",
    "\n",
    "# Create a DataFrame to summarize all metrics across models\n",
    "metrics_df = pd.DataFrame({\n",
    "    \"Accuracy\": accuracy_scores,\n",
    "    \"Precision\": precision_scores,\n",
    "    \"Recall\": recall_scores,\n",
    "    \"F1 Score\": f1_scores,\n",
    "    \"ROC AUC\": roc_auc_scores\n",
    "})\n",
    "print(metrics_df)"
   ]
  },
  {
   "cell_type": "code",
   "execution_count": 24,
   "id": "cf6fa784",
   "metadata": {},
   "outputs": [
    {
     "data": {
      "image/png": "[encoded data removed]",
      "text/plain": [
       "<Figure size 864x432 with 1 Axes>"
      ]
     },
     "metadata": {
      "needs_background": "light"
     },
     "output_type": "display_data"
    }
   ],
   "source": [
    "colour_shades = [\n",
    "    '#7a9bed',\n",
    "    '#6891e8',\n",
    "    '#4f7cbf',\n",
    "    '#2e6698',\n",
    "    '#1c4f74' \n",
    "]\n",
    "\n",
    "# Plotting the metrics\n",
    "metrics_df.plot(kind='bar', figsize=(12, 6), color=colour_shades)\n",
    "plt.title('Model Comparison (Accuracy, Precision, Recall, F1, ROC AUC)')\n",
    "plt.ylabel('Scores')\n",
    "plt.xlabel('Models')\n",
    "plt.xticks(rotation=45)\n",
    "plt.tight_layout()\n",
    "plt.show()"
   ]
  },
  {
   "cell_type": "markdown",
   "id": "5b540891",
   "metadata": {},
   "source": [
    "We are using the `ROC AUC` score with the `OvR approach` in `multi-class classification` as it is particularly effective in datasets with `class imbalance`. It ensures that the model's ability to identify all classes—especially the underrepresented ones—is fairly evaluated, providing a reliable and robust performance measure beyond simple accuracy or precision."
   ]
  },
  {
   "cell_type": "code",
   "execution_count": 25,
   "id": "255f48ce",
   "metadata": {},
   "outputs": [
    {
     "name": "stdout",
     "output_type": "stream",
     "text": [
      "\n",
      "Best Model Based on ROC AUC: Extra Trees\n"
     ]
    }
   ],
   "source": [
    "# Determine the best performing model based on ROC AUC (or F1 score)\n",
    "best_model_name = metrics_df['ROC AUC'].idxmax()\n",
    "best_model = classifiers[best_model_name]\n",
    "print(f\"\\nBest Model Based on ROC AUC: {best_model_name}\")"
   ]
  },
  {
   "cell_type": "markdown",
   "id": "d3de0e20",
   "metadata": {},
   "source": [
    "### Deep Learning Model : RNN "
   ]
  },
  {
   "cell_type": "markdown",
   "id": "75e9ee53",
   "metadata": {},
   "source": [
    "Simple neural networks are feed-forward, processing inputs all at once without memory of prior information. `Recurrent Neural Networks (RNNs)`, however, process input sequentially, maintaining an internal memory to capture context over time. This enables RNNs to account for word order and build an understanding of inputs step by step. "
   ]
  },
  {
   "cell_type": "code",
   "execution_count": null,
   "id": "fa3c1d93",
   "metadata": {},
   "outputs": [],
   "source": [
    "# Import required libraries\n",
    "import tensorflow\n",
    "\n",
    "from tensorflow.keras.preprocessing.text import Tokenizer\n",
    "from tensorflow.keras.preprocessing.sequence import pad_sequences\n",
    "from tensorflow.keras.layers import BatchNormalization\n",
    "from tensorflow.keras import regularizers\n",
    "\n",
    "from sklearn.model_selection import train_test_split\n",
    "from sklearn.preprocessing import OneHotEncoder\n",
    "\n",
    "# Create a linear stack of layers for the model\n",
    "from keras.models import Sequential\n",
    "from keras.layers import LSTM, Dense, Embedding,Dropout, Bidirectional, GlobalAveragePooling1D, Dropout\n",
    "from keras.optimizers import Adam\n",
    "from keras.callbacks import EarlyStopping\n",
    "from keras.constraints import max_norm"
   ]
  },
  {
   "cell_type": "code",
   "execution_count": 27,
   "id": "9d087851",
   "metadata": {},
   "outputs": [
    {
     "name": "stdout",
     "output_type": "stream",
     "text": [
      "Train Sample:  (10700, 3) \n",
      "Validation Sample:  (2140, 3) \n",
      "Test Sample:  (535, 3)\n"
     ]
    }
   ],
   "source": [
    "# Split the data into train (80%) and test (20%) sets\n",
    "X_train, X_test, y_train, y_test = train_test_split(tweets[feature], tweets[target], test_size=0.2, random_state=42)\n",
    "\n",
    "print('Train Sample: ', train_df.shape, '\\nValidation Sample: ', val_df.shape, '\\nTest Sample: ', test_df.shape)"
   ]
  },
  {
   "cell_type": "code",
   "execution_count": 28,
   "id": "fcac5f44",
   "metadata": {},
   "outputs": [],
   "source": [
    "# Tokenization\n",
    "tokenizer = Tokenizer(\n",
    "    num_words=50000,  # Maximum number of words to keep based on frequency\n",
    "    split=' ', # Specifies that tokens are separated by spaces\n",
    "    char_level=False, # Indicates that tokenization is done at the word level, not character level\n",
    "    oov_token='<UNK>'  # Token for out-of-vocabulary words\n",
    ")"
   ]
  },
  {
   "cell_type": "code",
   "execution_count": 29,
   "id": "cf027133",
   "metadata": {},
   "outputs": [
    {
     "name": "stdout",
     "output_type": "stream",
     "text": [
      "Vocabulary size: 12715\n"
     ]
    }
   ],
   "source": [
    "# Fit the tokenizer on the training data\n",
    "tokenizer.fit_on_texts(X_train)\n",
    "\n",
    "# Print word index (optional)\n",
    "word_index = tokenizer.word_index\n",
    "print(f\"Vocabulary size: {len(word_index)}\")"
   ]
  },
  {
   "cell_type": "code",
   "execution_count": 30,
   "id": "f4e68ab2",
   "metadata": {},
   "outputs": [],
   "source": [
    "# Transform texts to sequences\n",
    "train_sequence = tokenizer.texts_to_sequences(X_train)\n",
    "test_sequence = tokenizer.texts_to_sequences(X_test)\n",
    "\n",
    "# Padding sequences to a fixed length\n",
    "max_length = 50  # Maximum sequence length\n",
    "train_padding = pad_sequences(train_sequence, maxlen=max_length, padding='post')\n",
    "test_padding = pad_sequences(test_sequence, maxlen=max_length, padding='post')"
   ]
  },
  {
   "cell_type": "code",
   "execution_count": 31,
   "id": "0c45b846",
   "metadata": {},
   "outputs": [],
   "source": [
    "# OneHotEncoder - Reshape target labels and apply transformation\n",
    "encoder = OneHotEncoder(sparse_output=False)\n",
    "y_train = encoder.fit_transform(y_train.values.reshape(-1, 1))\n",
    "y_test = encoder.transform(y_test.values.reshape(-1, 1))"
   ]
  },
  {
   "cell_type": "code",
   "execution_count": 73,
   "id": "43b8c280",
   "metadata": {},
   "outputs": [
    {
     "name": "stdout",
     "output_type": "stream",
     "text": [
      "Model: \"sequential_19\"\n",
      "_________________________________________________________________\n",
      " Layer (type)                Output Shape              Param #   \n",
      "=================================================================\n",
      " embedding_20 (Embedding)    (None, 50, 128)           6400000   \n",
      "                                                                 \n",
      " global_average_pooling1d_13  (None, 128)              0         \n",
      "  (GlobalAveragePooling1D)                                       \n",
      "                                                                 \n",
      " dense_38 (Dense)            (None, 8)                 1032      \n",
      "                                                                 \n",
      " dense_39 (Dense)            (None, 5)                 45        \n",
      "                                                                 \n",
      "=================================================================\n",
      "Total params: 6,401,077\n",
      "Trainable params: 6,401,077\n",
      "Non-trainable params: 0\n",
      "_________________________________________________________________\n",
      "None\n"
     ]
    }
   ],
   "source": [
    "# Building the baseline model\n",
    "\n",
    "# Define a Sequential model\n",
    "base_model = Sequential()\n",
    "# Maps each word to a dense vector of fixed size (128)\n",
    "base_model.add(Embedding(50000,128,input_length=train_padding.shape[1]))\n",
    "# Computes the average of all the embeddings in a sequence,\n",
    "# summarizing the entire sequence into a single fixed-length vector\n",
    "base_model.add(GlobalAveragePooling1D())\n",
    "# A fully connected transformation with non-linearity\n",
    "base_model.add(Dense(8,activation='relu'))\n",
    "# The softmax activation normalizes the output into a \n",
    "# probability distribution across the 5 classes.\n",
    "base_model.add(Dense(5,activation='softmax'))\n",
    "\n",
    "print(base_model.summary())"
   ]
  },
  {
   "cell_type": "code",
   "execution_count": 74,
   "id": "bf543cbf",
   "metadata": {},
   "outputs": [],
   "source": [
    "# Compile the model with `adam` optimizer and accuracy evaluation metrics\n",
    "base_model.compile(loss='categorical_crossentropy',optimizer='adam',metrics=['accuracy'])"
   ]
  },
  {
   "cell_type": "code",
   "execution_count": 75,
   "id": "1cd9acda",
   "metadata": {},
   "outputs": [
    {
     "name": "stdout",
     "output_type": "stream",
     "text": [
      "Epoch 1/10\n",
      "268/268 [==============================] - 69s 98ms/step - loss: 1.5613 - accuracy: 0.2724 - val_loss: 1.5106 - val_accuracy: 0.3257\n",
      "Epoch 2/10\n",
      "268/268 [==============================] - 26s 99ms/step - loss: 1.4091 - accuracy: 0.3280 - val_loss: 1.3582 - val_accuracy: 0.3579\n",
      "Epoch 3/10\n",
      "268/268 [==============================] - 26s 96ms/step - loss: 1.2335 - accuracy: 0.4364 - val_loss: 1.2376 - val_accuracy: 0.4776\n",
      "Epoch 4/10\n",
      "268/268 [==============================] - 26s 97ms/step - loss: 1.0087 - accuracy: 0.6213 - val_loss: 1.1226 - val_accuracy: 0.5308\n",
      "Epoch 5/10\n",
      "268/268 [==============================] - 26s 96ms/step - loss: 0.8199 - accuracy: 0.6973 - val_loss: 1.0562 - val_accuracy: 0.5603\n",
      "Epoch 6/10\n",
      "268/268 [==============================] - 25s 95ms/step - loss: 0.6965 - accuracy: 0.7359 - val_loss: 1.0496 - val_accuracy: 0.5893\n",
      "Epoch 7/10\n",
      "268/268 [==============================] - 26s 97ms/step - loss: 0.6088 - accuracy: 0.7591 - val_loss: 1.0783 - val_accuracy: 0.5799\n",
      "Epoch 8/10\n",
      "268/268 [==============================] - 26s 97ms/step - loss: 0.5424 - accuracy: 0.7789 - val_loss: 1.0908 - val_accuracy: 0.5958\n",
      "Epoch 9/10\n",
      "268/268 [==============================] - 26s 97ms/step - loss: 0.4921 - accuracy: 0.8002 - val_loss: 1.1387 - val_accuracy: 0.6033\n",
      "Epoch 10/10\n",
      "268/268 [==============================] - 26s 97ms/step - loss: 0.4520 - accuracy: 0.8179 - val_loss: 1.1599 - val_accuracy: 0.6056\n"
     ]
    }
   ],
   "source": [
    "# The `fit` method trains the model by optimizing weights based on the training data\n",
    "history_base = base_model.fit(train_padding,y_train ,epochs=10, validation_split=0.2)"
   ]
  },
  {
   "cell_type": "code",
   "execution_count": 76,
   "id": "c1de0168",
   "metadata": {
    "scrolled": false
   },
   "outputs": [
    {
     "data": {
      "text/plain": [
       "(0.0, 1.6167325124144554)"
      ]
     },
     "execution_count": 76,
     "metadata": {},
     "output_type": "execute_result"
    },
    {
     "data": {
      "image/png": "[encoded data removed]",
      "text/plain": [
       "<Figure size 1080x720 with 2 Axes>"
      ]
     },
     "metadata": {
      "needs_background": "light"
     },
     "output_type": "display_data"
    }
   ],
   "source": [
    "# Function to plot training and validation metrics over epochs\n",
    "def plot_graphs(history, metric):\n",
    "  plt.plot(history.history[metric])\n",
    "  plt.plot(history.history['val_'+metric], '')\n",
    "  plt.xlabel(\"Epochs\")\n",
    "  plt.ylabel(metric)\n",
    "  plt.legend([metric, 'val_'+metric])\n",
    "\n",
    "plt.figure(figsize=(15, 10))\n",
    "# Plot accuracy on the left subplot\n",
    "plt.subplot(1, 2, 1)\n",
    "plot_graphs(history_base, 'accuracy')\n",
    "plt.ylim(None, 1)\n",
    "# Plot loss on the right subplot\n",
    "plt.subplot(1, 2, 2)\n",
    "plot_graphs(history_base, 'loss')\n",
    "plt.ylim(0, None)"
   ]
  },
  {
   "cell_type": "markdown",
   "id": "573ea657",
   "metadata": {},
   "source": [
    "- Training accuracy improved consistently throughout the 10 epochs, starting from 27.24% in Epoch 1 and reaching 81.79% by Epoch 10. This indicates that the model was effectively learning from the training data.\n",
    "- Validation accuracy, however, plateaued at around 59%-60% after Epoch 6, suggesting that while the model learned the training data well, it struggled to generalize to unseen data. This could indicate a potential overfitting problem, as the model continued to improve on the training set while the validation performance stagnated.\n",
    "- The validation loss increased after Epoch 3, starting at 1.23 and rising to 1.16 by Epoch 10. This increase in validation loss, along with the plateau in validation accuracy, further supports the idea that the model may be overfitting, as it becomes increasingly tailored to the training data while losing its ability to generalize."
   ]
  },
  {
   "cell_type": "code",
   "execution_count": 81,
   "id": "430e336a",
   "metadata": {},
   "outputs": [
    {
     "name": "stdout",
     "output_type": "stream",
     "text": [
      "Model: \"sequential_21\"\n",
      "_________________________________________________________________\n",
      " Layer (type)                Output Shape              Param #   \n",
      "=================================================================\n",
      " embedding_22 (Embedding)    (None, 50, 128)           6400000   \n",
      "                                                                 \n",
      " global_average_pooling1d_15  (None, 128)              0         \n",
      "  (GlobalAveragePooling1D)                                       \n",
      "                                                                 \n",
      " dense_42 (Dense)            (None, 8)                 1032      \n",
      "                                                                 \n",
      " dropout_39 (Dropout)        (None, 8)                 0         \n",
      "                                                                 \n",
      " dense_43 (Dense)            (None, 5)                 45        \n",
      "                                                                 \n",
      "=================================================================\n",
      "Total params: 6,401,077\n",
      "Trainable params: 6,401,077\n",
      "Non-trainable params: 0\n",
      "_________________________________________________________________\n",
      "None\n",
      "Epoch 1/10\n",
      "268/268 [==============================] - 28s 98ms/step - loss: 1.5863 - accuracy: 0.2702 - val_loss: 1.5579 - val_accuracy: 0.2841\n",
      "Epoch 2/10\n",
      "268/268 [==============================] - 26s 97ms/step - loss: 1.5166 - accuracy: 0.2873 - val_loss: 1.4668 - val_accuracy: 0.2981\n",
      "Epoch 3/10\n",
      "268/268 [==============================] - 26s 96ms/step - loss: 1.4302 - accuracy: 0.3310 - val_loss: 1.3859 - val_accuracy: 0.3458\n",
      "Epoch 4/10\n",
      "268/268 [==============================] - 26s 96ms/step - loss: 1.3588 - accuracy: 0.3729 - val_loss: 1.3386 - val_accuracy: 0.4388\n",
      "Epoch 5/10\n",
      "268/268 [==============================] - 26s 96ms/step - loss: 1.3015 - accuracy: 0.3985 - val_loss: 1.2828 - val_accuracy: 0.4369\n",
      "Epoch 6/10\n",
      "268/268 [==============================] - 26s 97ms/step - loss: 1.2504 - accuracy: 0.4812 - val_loss: 1.2522 - val_accuracy: 0.4874\n",
      "Epoch 7/10\n",
      "268/268 [==============================] - 26s 96ms/step - loss: 1.2194 - accuracy: 0.5019 - val_loss: 1.2297 - val_accuracy: 0.5285\n",
      "Epoch 8/10\n",
      "268/268 [==============================] - 26s 97ms/step - loss: 1.1854 - accuracy: 0.5259 - val_loss: 1.2129 - val_accuracy: 0.5607\n",
      "Epoch 9/10\n",
      "268/268 [==============================] - 26s 97ms/step - loss: 1.1659 - accuracy: 0.5248 - val_loss: 1.2019 - val_accuracy: 0.5757\n",
      "Epoch 10/10\n",
      "268/268 [==============================] - 26s 97ms/step - loss: 1.1370 - accuracy: 0.5443 - val_loss: 1.1949 - val_accuracy: 0.5846\n"
     ]
    }
   ],
   "source": [
    "# Handling overfitting\n",
    "\n",
    "# Adds a penalty term to the loss function based on the magnitude of the weights (L2 regularization)\n",
    "# Discourages large weight values\n",
    "regularise = tensorflow.keras.regularizers.l2(0.001)\n",
    "\n",
    "improved_model = Sequential()\n",
    "improved_model.add(Embedding(50000, 128, input_length=train_padding.shape[1]))\n",
    "# Randomly sets a fraction (50% in this case) of input units to zero during each forward pass\n",
    "# Prevents co-dependence of neurons\n",
    "improved_model.add(GlobalAveragePooling1D())\n",
    "improved_model.add(Dense(8,activation='relu',kernel_regularizer=regularise))\n",
    "improved_model.add(Dropout(0.6))\n",
    "improved_model.add(Dense(5,activation='softmax'))\n",
    "print(improved_model.summary())\n",
    "\n",
    "improved_model.compile(loss='categorical_crossentropy',optimizer='adam',metrics=['accuracy'])\n",
    "\n",
    "#  Stops training when the validation loss does not improve for 2 consecutive epochs\n",
    "# Prevents overfitting by halting training before the model starts to memorize noise\n",
    "# or irrelevant patterns in the training data\n",
    "early_stopping = EarlyStopping(monitor='val_loss', patience=2, restore_best_weights=True)\n",
    "\n",
    "history_improved = improved_model.fit(train_padding,y_train ,epochs=10, validation_split=0.2, callbacks=[early_stopping])"
   ]
  },
  {
   "cell_type": "code",
   "execution_count": 82,
   "id": "e263b77c",
   "metadata": {},
   "outputs": [
    {
     "data": {
      "text/plain": [
       "(0.0, 1.608780837059021)"
      ]
     },
     "execution_count": 82,
     "metadata": {},
     "output_type": "execute_result"
    },
    {
     "data": {
      "image/png": "[encoded data removed]",
      "text/plain": [
       "<Figure size 1080x720 with 2 Axes>"
      ]
     },
     "metadata": {
      "needs_background": "light"
     },
     "output_type": "display_data"
    }
   ],
   "source": [
    "# Function to plot training and validation metrics over epochs\n",
    "def plot_graphs(history, metric):\n",
    "  plt.plot(history.history[metric])\n",
    "  plt.plot(history.history['val_'+metric], '')\n",
    "  plt.xlabel(\"Epochs\")\n",
    "  plt.ylabel(metric)\n",
    "  plt.legend([metric, 'val_'+metric])\n",
    "\n",
    "plt.figure(figsize=(15, 10))\n",
    "# Plot accuracy on the left subplot\n",
    "plt.subplot(1, 2, 1)\n",
    "plot_graphs(history_improved, 'accuracy')\n",
    "plt.ylim(None, 1)\n",
    "# Plot loss on the right subplot\n",
    "plt.subplot(1, 2, 2)\n",
    "plot_graphs(history_improved, 'loss')\n",
    "plt.ylim(0, None)"
   ]
  },
  {
   "cell_type": "code",
   "execution_count": 83,
   "id": "b07b8625",
   "metadata": {},
   "outputs": [
    {
     "name": "stdout",
     "output_type": "stream",
     "text": [
      "84/84 [==============================] - 0s 4ms/step - loss: 1.1807 - accuracy: 0.5839\n",
      "Testing Accuracy(%):  58.39252471923828\n",
      "84/84 [==============================] - 0s 3ms/step\n"
     ]
    },
    {
     "data": {
      "image/png": "[encoded data removed]",
      "text/plain": [
       "<Figure size 360x360 with 2 Axes>"
      ]
     },
     "metadata": {
      "needs_background": "light"
     },
     "output_type": "display_data"
    }
   ],
   "source": [
    "# Evaluate the model on the test data\n",
    "score = improved_model.evaluate(test_padding,y_test) \n",
    "print(\"Testing Accuracy(%): \", score[1]*100)\n",
    "\n",
    "# Predict the labels for the test data\n",
    "y_pred = improved_model.predict(test_padding)\n",
    "y_predicted_labels = np.array([ np.argmax(i) for i in y_pred])\n",
    "y_test_labels = np.array([ np.argmax(i) for i in y_test])\n",
    "\n",
    "# Calculate confusion matrix\n",
    "cm = confusion_matrix(y_test_labels, y_predicted_labels)\n",
    "\n",
    "# Plot confusion matrix\n",
    "labels=['Very Negative', 'Negative', 'Neutral','Positive', 'Very Positive']\n",
    "plt.figure(figsize=(5,5))\n",
    "sn.heatmap(cm,  xticklabels=labels, yticklabels=labels, fmt='d', annot=True, cmap=plt.cm.Blues)\n",
    "plt.xlabel('Predicted')\n",
    "plt.ylabel('Actual')\n",
    "plt.show()"
   ]
  },
  {
   "cell_type": "markdown",
   "id": "d1538595",
   "metadata": {},
   "source": [
    "- The model performs best on the Very Positive class with 565 correct predictions, followed by Positive (478). The model seems to struggle with predicting the Very Negative class, as it has no correct predictions (0).\n",
    "- The model shows a notable class imbalance, especially with the Very Negative class, which has 0 correct predictions and high misclassifications into other classes. This suggest that the model is not well-trained on this class or that there is an issue in the dataset (e.g., very few instances of the Very Negative class in the training set).\n",
    "- There are misclassifications between adjacent classes (e.g., Negative vs. Neutral, Positive vs. Very Positive), suggesting the model may not be able to distinguish between these classes effectively. This might be a sign of overlap in feature distributions or a lack of sufficient training data."
   ]
  },
  {
   "cell_type": "markdown",
   "id": "c019c326",
   "metadata": {},
   "source": [
    "# <p> <center style=\"background-color:#6891e8;font-family:Garamond;color:white;font-size:100%;text-align:center;border-radius:0px;padding: 10px;\">  7. Conclusion  </center></p>\n",
    "\n",
    "- `Extra Trees` performs the best overall, with the highest accuracy of `0.6654`, followed by `Random Forest at 0.6075` and `LGBM at 0.6168`. This suggests that Extra Trees provides the most accurate predictions across all classes.\n",
    "- In terms of precision, `Extra Trees` also leads with a precision score of `0.6672`, meaning it is more reliable at predicting positive instances with fewer false positives compared to the other models.\n",
    "- The F1 score for `Extra Trees is 0.6534`, which offers a good balance between precision and recall. While it is the highest among all models, the value indicates room for improvement, as it is not significantly higher than other models.\n",
    "- `Random Forest` achieves an `ROC AUC of 0.8642`, but `Extra Trees` surpasses it with a higher `ROC AUC of 0.8754`, indicating its superior ability to distinguish between classes and its robustness in distinguishing different categories.\n",
    "\n",
    "Despite Extra Trees having the highest performance across all metrics, the maximum validation accuracy of 65% highlights the inherent challenges in text classification tasks, particularly when the data is limited or imbalanced. Even after extensive hyperparameter tuning, the improvements were relatively modest, with accuracy increasing by only 1-2%. This suggests that text classification problems, especially with a limited dataset, are complex and may require more sophisticated techniques or additional data to achieve significant improvements.\n",
    "\n",
    "- Standard RNNs often struggle with retaining information from earlier inputs as sequences grow (vanishing gradient problem). `Long Short-Term Memory (LSTM)` networks address this by using a memory structure that retains both short-term and long-term information, allowing the model to recall any prior input as needed. This capability enhances the network's ability to identify complex relationships in sequential data.\n",
    "\n",
    "##### Room for Improvement\n",
    "\n",
    "- Additionally, to improve our approach in this project there are methods to effectively refine a vast dataset of tweets that discuss ChatGPT's impact on education, two powerful analytical approaches can be employed: Topic Modelling or Text Clustering. `Topic Modelling`, particularly through techniques like Latent Dirichlet Allocation (LDA), serves as an invaluable tool for uncovering hidden themes within the collection of tweets. This method will enable us to systematically identify and extract tweets that center around specific education-related topics, such as \"learning\" or the role of \"AI in education.\" Conversely, `Text Clustering` focuses on grouping similar tweets based on their content, which is essential for isolating clusters of discussion that share common themes. For instance, we can identify specific clusters that reflect ChatGPT’s impact on teachers or students, thereby highlighting particular areas of interest and concern within the educational landscape.\n",
    "- Accuracy gains, while helpful, point to the fact that achieving higher performance in text classification requires more than just tuning. Models might need to be further refined, and different techniques such as `deep learning (e.g., LSTM, GRU), transformers`, or additional data augmentation could be considered.\n",
    "-  The testing accuracy for an RNN (Recurrent Neural Network) is very low suggesting improvement in areas such as feature engineering, we can experiment with different `embeddings (e.g., Word2Vec, GloVe, or transformers like BERT)` for better feature representations.\n",
    "- There is some class imbalance when it comes to `Negative` categories, RNNs may have difficulty learning these minority classes. Techniques like oversampling, undersampling, or class weighting can help in balancing the dataset.\n",
    "\n",
    "# <p> <center style=\"background-color:#6891e8;font-family:Garamond;color:white;font-size:100%;text-align:center;border-radius:0px;padding: 10px;\">  8. References  </center></p>\n",
    "\n",
    "[1] Aliea Sabir, Huda Adil Ali (2024) ChatGPT Tweets Sentiment Analysis Using Machine Learning and Data Classification\n",
    "\n",
    "[2] Dataset - https://www.kaggle.com/datasets/khalidryder777/500k-chatgpt-tweets-jan-mar-2023?select=Twitter+Jan+Mar.csv\n",
    "\n",
    "[3] Scikit-learn developers (BSD License) - TfidfVectorizer (2007-2024), https://scikit-learn.org/1.5/modules/generated/sklearn.feature_extraction.text.TfidfVectorizer.html"
   ]
  }
 ],
 "metadata": {
  "kernelspec": {
   "display_name": "Python 3",
   "language": "python",
   "name": "python3"
  },
  "language_info": {
   "codemirror_mode": {
    "name": "ipython",
    "version": 3
   },
   "file_extension": ".py",
   "mimetype": "text/x-python",
   "name": "python",
   "nbconvert_exporter": "python",
   "pygments_lexer": "ipython3",
   "version": "3.9.4"
  }
 },
 "nbformat": 4,
 "nbformat_minor": 5
}
